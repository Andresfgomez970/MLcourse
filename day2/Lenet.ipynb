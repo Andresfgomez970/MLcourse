{
  "nbformat": 4,
  "nbformat_minor": 0,
  "metadata": {
    "colab": {
      "name": "Lenet.ipynb",
      "provenance": [],
      "collapsed_sections": [],
      "include_colab_link": true
    },
    "kernelspec": {
      "name": "python3",
      "display_name": "Python 3"
    }
  },
  "cells": [
    {
      "cell_type": "markdown",
      "metadata": {
        "id": "view-in-github",
        "colab_type": "text"
      },
      "source": [
        "<a href=\"https://colab.research.google.com/github/mjvakili/MLcourse/blob/master/day2/Lenet.ipynb\" target=\"_parent\"><img src=\"https://colab.research.google.com/assets/colab-badge.svg\" alt=\"Open In Colab\"/></a>"
      ]
    },
    {
      "cell_type": "code",
      "metadata": {
        "id": "DNu2WrzTHXfI",
        "colab_type": "code",
        "colab": {
          "base_uri": "https://localhost:8080/",
          "height": 63
        },
        "outputId": "b47955e1-72cb-4e16-cc1b-e524d8d64e08"
      },
      "source": [
        "from tensorflow.keras import layers\n",
        "from tensorflow.keras import Model\n",
        "import tensorflow as tf\n",
        "import matplotlib.pyplot as plt\n",
        "import numpy as np"
      ],
      "execution_count": 1,
      "outputs": [
        {
          "output_type": "display_data",
          "data": {
            "text/html": [
              "<p style=\"color: red;\">\n",
              "The default version of TensorFlow in Colab will soon switch to TensorFlow 2.x.<br>\n",
              "We recommend you <a href=\"https://www.tensorflow.org/guide/migrate\" target=\"_blank\">upgrade</a> now \n",
              "or ensure your notebook will continue to use TensorFlow 1.x via the <code>%tensorflow_version 1.x</code> magic:\n",
              "<a href=\"https://colab.research.google.com/notebooks/tensorflow_version.ipynb\" target=\"_blank\">more info</a>.</p>\n"
            ],
            "text/plain": [
              "<IPython.core.display.HTML object>"
            ]
          },
          "metadata": {
            "tags": []
          }
        }
      ]
    },
    {
      "cell_type": "code",
      "metadata": {
        "id": "4uF_0UM0JZhF",
        "colab_type": "code",
        "colab": {}
      },
      "source": [
        "(x_train, y_train), (x_test, y_test) = tf.keras.datasets.mnist.load_data()\n",
        "x_train=x_train.reshape(60000, 28, 28, 1)\n",
        "x_train=x_train / 255.0\n",
        "x_test = x_test.reshape(10000, 28, 28, 1)"
      ],
      "execution_count": 0,
      "outputs": []
    },
    {
      "cell_type": "markdown",
      "metadata": {
        "id": "8WJ95tvCR_JZ",
        "colab_type": "text"
      },
      "source": [
        "Now we implement the LeNet CNN architecture introduced by LeCun+98.\n",
        "This model includes two convolutional layers followed by 3 fully connected layers."
      ]
    },
    {
      "cell_type": "code",
      "metadata": {
        "id": "eL3bwyVISKmF",
        "colab_type": "code",
        "outputId": "90ba13dc-010d-470e-9ede-010c8fa9901a",
        "colab": {
          "base_uri": "https://localhost:8080/",
          "height": 88
        }
      },
      "source": [
        "model = tf.keras.models.Sequential([\n",
        "    tf.keras.layers.Conv2D(6, (5,5), activation='relu', input_shape=(28, 28, 1)),\n",
        "    tf.keras.layers.AveragePooling2D(pool_size = (2, 2), strides = (2,2)),\n",
        "    tf.keras.layers.Conv2D(16, (5,5), activation='relu'),\n",
        "    tf.keras.layers.AveragePooling2D(pool_size = (2,2), strides = (2,2)),\n",
        "    tf.keras.layers.Flatten(),\n",
        "    tf.keras.layers.Dense(120, activation='relu'),\n",
        "    tf.keras.layers.Dense(84, activation='relu'),\n",
        "    tf.keras.layers.Dense(10, activation='softmax'),\n",
        "])"
      ],
      "execution_count": 3,
      "outputs": [
        {
          "output_type": "stream",
          "text": [
            "WARNING:tensorflow:From /usr/local/lib/python3.6/dist-packages/tensorflow_core/python/ops/resource_variable_ops.py:1630: calling BaseResourceVariable.__init__ (from tensorflow.python.ops.resource_variable_ops) with constraint is deprecated and will be removed in a future version.\n",
            "Instructions for updating:\n",
            "If using Keras pass *_constraint arguments to layers.\n"
          ],
          "name": "stdout"
        }
      ]
    },
    {
      "cell_type": "code",
      "metadata": {
        "id": "z1gMtdEAV9AZ",
        "colab_type": "code",
        "colab": {}
      },
      "source": [
        "EPOCHS = 10\n",
        "BATCH_SIZE = 32\n",
        "early_stopping = tf.keras.callbacks.EarlyStopping(\n",
        "    monitor='val_acc', \n",
        "    verbose=1,\n",
        "    patience=5,\n",
        "    mode='max',\n",
        "    restore_best_weights=True)"
      ],
      "execution_count": 0,
      "outputs": []
    },
    {
      "cell_type": "code",
      "metadata": {
        "id": "rkQoXjBPd0-h",
        "colab_type": "code",
        "colab": {}
      },
      "source": [
        "model.compile(optimizer = 'Adam', loss = 'sparse_categorical_crossentropy', metrics = ['accuracy'])"
      ],
      "execution_count": 0,
      "outputs": []
    },
    {
      "cell_type": "markdown",
      "metadata": {
        "id": "Fv8VCLQpSdbZ",
        "colab_type": "text"
      },
      "source": [
        "Here we have used the Adam Optimizer with its default parameters. \n",
        "It is recommended to play with the optimizer and or the learning rate to investigate the progression of the loss function optimization.\n",
        "\n",
        "##Exercise\n",
        "\n",
        "Remember our discussion of model evaluation with cross validation!\n",
        "As an exercise, try to implment a function that picks a right set of values for the learning rate and the batch size using the $k-$fold cross validation.\n",
        "\n",
        "###Note\n",
        "\n",
        "You should not include the test set in the cross-validation! "
      ]
    },
    {
      "cell_type": "code",
      "metadata": {
        "id": "RG6JIdhUeCYj",
        "colab_type": "code",
        "colab": {}
      },
      "source": [
        "history = model.fit(x_train, y_train, validation_data = (x_test, y_test), \n",
        "                    batch_size = BATCH_SIZE, \n",
        "                    epochs = EPOCHS, \n",
        "                    callbacks = [early_stopping], \n",
        "                    verbose = 1)"
      ],
      "execution_count": 0,
      "outputs": []
    },
    {
      "cell_type": "markdown",
      "metadata": {
        "id": "umIIm6P_WgvV",
        "colab_type": "text"
      },
      "source": [
        "We have used ``` early stopping ``` to avoide overfitting. \n",
        "The advantage of early stopping is that it stops the optimization \n",
        "when a given metric evaluated on the validation set converges.\n",
        "Recall from the lecture on day 2 that another effective way of combatting overfitting in Neural Neyworks is Dropout.\n"
      ]
    },
    {
      "cell_type": "code",
      "metadata": {
        "id": "R8WFHpw2PsEH",
        "colab_type": "code",
        "colab": {}
      },
      "source": [
        "fig, ax = plt.subplots(nrows = 1, ncols = 2, figsize = (10, 5))\n",
        "acc = history.history['acc']\n",
        "val_acc = history.history['val_acc']\n",
        "loss = history.history['loss']\n",
        "val_loss = history.history['val_loss']\n",
        "\n",
        "epochs = range(len(acc))\n",
        "\n",
        "ax[0].plot(epochs, acc, label='Training accuracy')\n",
        "ax[0].plot(epochs, val_acc, label='Validation accuracy')\n",
        "ax[0].set_title('Training and validation accuracy')\n",
        "ax[0].legend(loc=0)\n",
        "\n",
        "ax[1].semilogy(epochs, loss, label='Training loss')\n",
        "ax[1].semilogy(epochs, val_loss, label='Validation loss')\n",
        "ax[1].set_title('Training and validation Loss')\n",
        "ax[1].legend(loc=0)\n",
        "\n",
        "plt.show()"
      ],
      "execution_count": 0,
      "outputs": []
    },
    {
      "cell_type": "markdown",
      "metadata": {
        "id": "2v5usG96Y_sd",
        "colab_type": "text"
      },
      "source": [
        "Recall from the lecture that the convolution layers act as feature extractors! \n",
        "\n",
        "Let's take a look at some of the activation layers once applied to a given example in the test set."
      ]
    },
    {
      "cell_type": "code",
      "metadata": {
        "id": "xy9iS-90eRCO",
        "colab_type": "code",
        "colab": {}
      },
      "source": [
        "def vizualize_activations(test_index):\n",
        "  '''\n",
        "  It shows the output of different convolution and pooling \n",
        "  layers in the Lenet CNN\n",
        "\n",
        "  input: image index in the test set \n",
        "  '''\n",
        "  print(\"Vizualising the output of Convolution layers and Pooling layer for test example \"+str(test_index))\n",
        "  img = x_test[test_index]\n",
        "  layer_outputs = [layer.output for layer in model.layers][0:]\n",
        "  activation_model = tf.keras.models.Model(inputs = model.input, outputs = layer_outputs)\n",
        "  feature_maps = activation_model.predict(img.reshape(1, 28, 28, 1))\n",
        "  nlayers = len(feature_maps)\n",
        "  for layer_index in range(4):\n",
        "    layer_feature_maps = feature_maps[layer_index][0]\n",
        "    layer_depth = layer_feature_maps.shape[-1]\n",
        "    fig, ax = plt.subplots(nrows = 1, ncols = layer_depth)\n",
        "    if np.mod(layer_index ,2) == 0:\n",
        "      ax[0].set_ylabel(\"CONV2D\")\n",
        "    else:\n",
        "      ax[0].set_ylabel(\"Average Pooling\")  \n",
        "    for i in range(layer_depth):\n",
        "      ax[i].imshow(layer_feature_maps[:,:,i])\n",
        "      ax[i].set_xticks([])\n",
        "      ax[i].set_yticks([])\n",
        "    \n",
        "  return None"
      ],
      "execution_count": 0,
      "outputs": []
    },
    {
      "cell_type": "code",
      "metadata": {
        "id": "RTSUMrLsakkM",
        "colab_type": "code",
        "colab": {
          "base_uri": "https://localhost:8080/",
          "height": 1000
        },
        "outputId": "f9f2f40a-8a7f-4592-afef-5b78207913bf"
      },
      "source": [
        "for index in [1, 10, 100]:\n",
        "    vizualize_activations(index)"
      ],
      "execution_count": 9,
      "outputs": [
        {
          "output_type": "stream",
          "text": [
            "Vizualising the output of Convolution layers and Pooling layer for test example 1\n",
            "Vizualising the output of Convolution layers and Pooling layer for test example 10\n",
            "Vizualising the output of Convolution layers and Pooling layer for test example 100\n"
          ],
          "name": "stdout"
        },
        {
          "output_type": "display_data",
          "data": {
            "image/png": "[encoded data removed]",
            "text/plain": [
              "<Figure size 432x288 with 6 Axes>"
            ]
          },
          "metadata": {
            "tags": []
          }
        },
        {
          "output_type": "display_data",
          "data": {
            "image/png": "[encoded data removed]",
            "text/plain": [
              "<Figure size 432x288 with 6 Axes>"
            ]
          },
          "metadata": {
            "tags": []
          }
        },
        {
          "output_type": "display_data",
          "data": {
            "image/png": "[encoded data removed]",
            "text/plain": [
              "<Figure size 432x288 with 16 Axes>"
            ]
          },
          "metadata": {
            "tags": []
          }
        },
        {
          "output_type": "display_data",
          "data": {
            "image/png": "[encoded data removed]",
            "text/plain": [
              "<Figure size 432x288 with 16 Axes>"
            ]
          },
          "metadata": {
            "tags": []
          }
        },
        {
          "output_type": "display_data",
          "data": {
            "image/png": "[encoded data removed]",
            "text/plain": [
              "<Figure size 432x288 with 6 Axes>"
            ]
          },
          "metadata": {
            "tags": []
          }
        },
        {
          "output_type": "display_data",
          "data": {
            "image/png": "[encoded data removed]",
            "text/plain": [
              "<Figure size 432x288 with 6 Axes>"
            ]
          },
          "metadata": {
            "tags": []
          }
        },
        {
          "output_type": "display_data",
          "data": {
            "image/png": "[encoded data removed]",
            "text/plain": [
              "<Figure size 432x288 with 16 Axes>"
            ]
          },
          "metadata": {
            "tags": []
          }
        },
        {
          "output_type": "display_data",
          "data": {
            "image/png": "[encoded data removed]",
            "text/plain": [
              "<Figure size 432x288 with 16 Axes>"
            ]
          },
          "metadata": {
            "tags": []
          }
        },
        {
          "output_type": "display_data",
          "data": {
            "image/png": "[encoded data removed]",
            "text/plain": [
              "<Figure size 432x288 with 6 Axes>"
            ]
          },
          "metadata": {
            "tags": []
          }
        },
        {
          "output_type": "display_data",
          "data": {
            "image/png": "[encoded data removed]",
            "text/plain": [
              "<Figure size 432x288 with 6 Axes>"
            ]
          },
          "metadata": {
            "tags": []
          }
        },
        {
          "output_type": "display_data",
          "data": {
            "image/png": "[encoded data removed]",
            "text/plain": [
              "<Figure size 432x288 with 16 Axes>"
            ]
          },
          "metadata": {
            "tags": []
          }
        },
        {
          "output_type": "display_data",
          "data": {
            "image/png": "[encoded data removed]",
            "text/plain": [
              "<Figure size 432x288 with 16 Axes>"
            ]
          },
          "metadata": {
            "tags": []
          }
        }
      ]
    },
    {
      "cell_type": "markdown",
      "metadata": {
        "id": "Fz9bdJnO0ezg",
        "colab_type": "text"
      },
      "source": [
        "As expected, the convolution layers capture the features encoded in the images. While the first convolutional layers extract the low level features such as the edges of objects, the last convolutional layers extract the more fine and high-level features of the images. \n",
        "\n",
        "The pooling layers help with keeping the model invariant with respect to possible translations in the features. In addition, they help with reducing the computational complexity of the model. \n",
        "\n",
        "Lastly, the classification is done by the fully connected layer using the features that are extracted with the convolutions."
      ]
    }
  ]
}