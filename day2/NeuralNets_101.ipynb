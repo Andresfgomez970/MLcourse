{
  "nbformat": 4,
  "nbformat_minor": 0,
  "metadata": {
    "colab": {
      "name": "NeuralNets_101.ipynb",
      "provenance": [],
      "include_colab_link": true
    },
    "kernelspec": {
      "name": "python3",
      "display_name": "Python 3"
    }
  },
  "cells": [
    {
      "cell_type": "markdown",
      "metadata": {
        "id": "view-in-github",
        "colab_type": "text"
      },
      "source": [
        "<a href=\"https://colab.research.google.com/github/mjvakili/MLcourse/blob/master/day2/NeuralNets_101.ipynb\" target=\"_parent\"><img src=\"https://colab.research.google.com/assets/colab-badge.svg\" alt=\"Open In Colab\"/></a>"
      ]
    },
    {
      "cell_type": "markdown",
      "metadata": {
        "id": "NBSKxo9xJrfi",
        "colab_type": "text"
      },
      "source": [
        "# A bit of probability\n",
        "\n",
        "Let's consider a binary classification problem. For a variable $x$ we want to know whether it belongs to class $C_1$ or class $C_2$. \n",
        "\n",
        "According to the Bayes theorem: \n",
        "\n",
        "$p(C_1|x)p(x) = p(x|C_1)p(C_1)$\n",
        "\n",
        "On the other hand we can write\n",
        "\n",
        "$p(x) = \\sum_i p(x|C_i)p(C_i) = p(x|C_1)p(C_1) + p(x|C_2)p(C_2)$ \n",
        "\n",
        "(P.S. don't bother with th terminology but the summation is also called the marginalization over classes)\n",
        "\n",
        "\n",
        "Therefore we can write:\n",
        "\n",
        "$P(C_1|x) = \\frac{p(x|C_1)p(C_1)}{p(x|C_1)p(C_1) + p(x|C_2)p(C_2)} = \\frac{1}{1 + \\frac{p(x|C_2)p(C_2)}{p(x|C_1)p(C_1)}}$ \n",
        "\n",
        "# The Sigmoid activation function\n",
        "\n",
        "the sigmoid function is defined in the following way:\n",
        "\n",
        "$\\sigma(z) = \\frac{1}{1+\\exp(-z)} = \\frac{\\exp(z)}{\\exp(z) + 1}$\n",
        "\n",
        "let's implemented in python:"
      ]
    },
    {
      "cell_type": "code",
      "metadata": {
        "id": "Pow6AP4_NgBU",
        "colab_type": "code",
        "colab": {}
      },
      "source": [
        "import numpy as np\n",
        "import matplotlib.pyplot as plt"
      ],
      "execution_count": 0,
      "outputs": []
    },
    {
      "cell_type": "code",
      "metadata": {
        "id": "Zi2Jso3PNj4L",
        "colab_type": "code",
        "colab": {}
      },
      "source": [
        "def sigmoid(x):\n",
        "\n",
        "  return 1/(1+np.exp(-1.*x))"
      ],
      "execution_count": 0,
      "outputs": []
    },
    {
      "cell_type": "code",
      "metadata": {
        "id": "cjUap96yNsOc",
        "colab_type": "code",
        "colab": {}
      },
      "source": [
        "assert (sigmoid(np.inf) == 1)&(sigmoid(-np.inf) == 0)&(sigmoid(0) == 0.5)"
      ],
      "execution_count": 0,
      "outputs": []
    },
    {
      "cell_type": "code",
      "metadata": {
        "id": "VgY7-LmwODRD",
        "colab_type": "code",
        "outputId": "53981cdb-626b-4bd6-be91-9faa20b5b402",
        "colab": {
          "base_uri": "https://localhost:8080/",
          "height": 282
        }
      },
      "source": [
        "x_test = np.linspace(-10,10,100)\n",
        "y_test = sigmoid(x_test)\n",
        "plt.plot(x_test , y_test, lw = 4)\n",
        "plt.axvline(0, ls = \"dashed\", color = \"k\")\n",
        "plt.axhline(1, ls = \"dashed\", color = \"k\")\n",
        "plt.axhline(0, ls = \"dashed\", color = \"k\")"
      ],
      "execution_count": 0,
      "outputs": [
        {
          "output_type": "execute_result",
          "data": {
            "text/plain": [
              "<matplotlib.lines.Line2D at 0x7fde5e316c88>"
            ]
          },
          "metadata": {
            "tags": []
          },
          "execution_count": 12
        },
        {
          "output_type": "display_data",
          "data": {
            "image/png": "[encoded data removed]",
            "text/plain": [
              "<Figure size 432x288 with 1 Axes>"
            ]
          },
          "metadata": {
            "tags": []
          }
        }
      ]
    },
    {
      "cell_type": "markdown",
      "metadata": {
        "id": "Kyjm29BuPDon",
        "colab_type": "text"
      },
      "source": [
        "#Going back to probabilities\n",
        "\n",
        "\n",
        "$P(C_1|x) = \\sigma(a)$ \n",
        "\n",
        "therefore:\n",
        "\n",
        "$P(C_2|x) = 1 - \\sigma(a)$\n",
        "\n",
        "where:\n",
        "\n",
        "$a = \\log\\big(\\frac{p(x|C_2)p(C_2)}{p(x|C_1)p(C_1)}\\big) = \\log\\big(\\frac{p(x|C_2)}{p(x|C_1)}\\big) + \\log\\big(\\frac{p(C_2)}{p(C_1)}\\big) = Wx + b$\n",
        "\n",
        "When $x$ is D dimentional \n",
        "\n",
        "$a = \\sum_{j=1}^{D}W_jx_j + b  = W^{T}x+b$\n",
        "\n",
        "Note that $W, b$ are free parameters.\n",
        "\n",
        "therefore the probabiliy that an example $x$ belongs to the class $C_1$ is $\\sigma(W^{T}x+b)$ and the probabiliy that an example $x$ belongs to the class $C_2$ is $1 - \\sigma(W^{T}x+b)$.\n",
        "\n",
        "\n",
        "\n",
        "\n"
      ]
    },
    {
      "cell_type": "markdown",
      "metadata": {
        "id": "-hfGsQLRgCl0",
        "colab_type": "text"
      },
      "source": [
        "\n",
        "#Logistic regression\n",
        "\n",
        "Logistic regression is a classification algorithm that simply assumes:\n",
        "\n",
        "$p(C_1|x) = \\sigma(W^{T}x+b)$\n",
        "\n",
        "The parameters $W$ and $b$ are estimated by minimizing a cost function. \n",
        "\n",
        "So what is the cost function of the logistic regression?\n",
        "\n",
        "#Cross-Entropy cost function\n",
        "\n",
        "So what is the cost function of logistic regression?\n",
        "\n",
        "Consider that we have a (training) dataset $\\{x_n, y_n\\}_{n=1}^{N}$ where $y_n = 1$ if $x_n$ belongs to $C_1$ and $y_n = 0$ if $x_n$ belongs to the calss $C_2$.\n",
        "\n",
        "Let's define $\\hat{y}_n$ as the output of the sigmoid function applied to $W^{T}x_n + b$:\n",
        "\n",
        "$ x_n \\rightarrow W^{T}x_n + b \\rightarrow \\hat{y}_n = \\sigma(W^{T}x_n + b) = p(C_1|x_n)$\n",
        "\n",
        "So what is the probability of observing the label $y_n$ given $\\{W, b\\}$:\n",
        "\n",
        "$p(y_n|W,b) = p(C_1|x_n) . p(C_2|x_n) = p(C_1|x_n). (1- p(C1|x_n)) = \\hat{y}_n ^{y_n} (1 - \\hat{y}_n)^{1-y_n}$\n",
        "\n",
        "$p(y|W,b) = \\prod_{n=1}^{N}p(y_n|W,b)$\n",
        "\n",
        "Therfore, the cost function can be written as \n",
        "\n",
        "$J(W, b) = - \\log p(y|W,b) = \\sum_{n=1}^{N} \\big(y_n \\log \\hat{y}_n + (1-y_n) \\log (1-\\hat{y}_n))$\n",
        "\n",
        "This is the ***cross-entropy cost function*** and it serves as the cost function for most ***clasification problems*** in deep learning.\n",
        "\n"
      ]
    },
    {
      "cell_type": "markdown",
      "metadata": {
        "id": "VeviSf3JTS0p",
        "colab_type": "text"
      },
      "source": [
        "#How about multi-class probabilities?\n",
        "\n",
        "$p(C_i|x) = p(x|C_i)p(C_i)/\\sum_{c}p(x|C_c)p(C_c)$;\n",
        "\n",
        "Now if we define: \n",
        "\n",
        "$p(x|C_i)p(C_i) = \\exp(a_i)$\n",
        "\n",
        "then we have:\n",
        "\n",
        "\n",
        "$p(C_i|x) = \\frac{\\exp(a_i)}{\\sum_j \\exp(a_j)} = \\frac{\\exp(W^{T}_i x + b_i)}{\\sum_j \\exp(W^{T}_j x + b_j)}$\n",
        "\n",
        "We'll come back to this later!\n"
      ]
    },
    {
      "cell_type": "markdown",
      "metadata": {
        "id": "faCqrJGSWCce",
        "colab_type": "text"
      },
      "source": [
        "#The building block of Neural Networks\n",
        "\n",
        "$\\sigma(W^Tx+b)$ is an operation which is the building block of the Neural Networks:\n",
        "\n",
        "\n",
        "(1) The **parameters** of the model are  **$W, b$**. These parameters are responsible for the linear operation $a = W^Tx+b$\n",
        "\n",
        "(2) The next step is applying a nonlinear activation function to $a$: $a \\rightarrow \\sigma(a)$.\n",
        "\n",
        "The sigmoid function $\\sigma(.)$ is a **nonlinear activation function**. \n",
        "In practice however, we may have to use a different nonlinear activation function. \n",
        "\n",
        "#Activation function\n",
        "\n",
        "The other common activation functions are $\\tanh(.)$, the rectified linear unit$\\mathrm{ReLu}(.)$ and its variant which is the leaky Relu. \n",
        "\n",
        "$\\tanh(x) = \\frac{e^{x}-e^{-x}}{e^{x}+e^{-x}}$\n",
        "\n",
        "$\\rm Relu$ $(x) = \\mathrm{max}(0,x) = \\begin{cases}\n",
        "    x, & \\text{if   } x>0 \\\\\n",
        "    0              & \\text{otherwise}\n",
        "\\end{cases}$\n",
        "\n",
        "\n",
        "$\\rm Leaky Relu$ $(x) = \\mathrm{max}(0,x) = \\begin{cases}\n",
        "    x, & \\text{if   } x>0 \\\\\n",
        "    \\alpha x              & \\text{otherwise}\n",
        "\\end{cases}$\n",
        "\n",
        "\n",
        "Let's visualize them in python:\n"
      ]
    },
    {
      "cell_type": "code",
      "metadata": {
        "id": "KRrgt3SzFnUF",
        "colab_type": "code",
        "colab": {}
      },
      "source": [
        "def tanh(x):\n",
        "  '''tanh activation function\n",
        "  '''\n",
        "  return np.tanh(x)\n",
        "\n",
        "def relu(x):\n",
        "  '''relu activation function\n",
        "  '''\n",
        "  y = np.zeros_like(x)\n",
        "  y[x>0] = x[x>0]\n",
        "\n",
        "  return y  "
      ],
      "execution_count": 0,
      "outputs": []
    },
    {
      "cell_type": "code",
      "metadata": {
        "id": "VdrnYWbbF7wU",
        "colab_type": "code",
        "colab": {
          "base_uri": "https://localhost:8080/",
          "height": 562
        },
        "outputId": "7ca4df46-5712-49e5-9915-c953b53d5970"
      },
      "source": [
        "x_test = np.linspace(-10,10,100)\n",
        "y_test = tanh(x_test)\n",
        "plt.plot(x_test , y_test, lw = 4)\n",
        "plt.title(\"tanh\")\n",
        "plt.show()\n",
        "plt.close()\n",
        "x_test = np.linspace(-10,10,100)\n",
        "y_test = relu(x_test)\n",
        "plt.plot(x_test , y_test, lw = 4)\n",
        "plt.title(\"Relu\")"
      ],
      "execution_count": 15,
      "outputs": [
        {
          "output_type": "display_data",
          "data": {
            "image/png": "[encoded data removed]",
            "text/plain": [
              "<Figure size 432x288 with 1 Axes>"
            ]
          },
          "metadata": {
            "tags": []
          }
        },
        {
          "output_type": "execute_result",
          "data": {
            "text/plain": [
              "Text(0.5, 1.0, 'Relu')"
            ]
          },
          "metadata": {
            "tags": []
          },
          "execution_count": 15
        },
        {
          "output_type": "display_data",
          "data": {
            "image/png": "[encoded data removed]",
            "text/plain": [
              "<Figure size 432x288 with 1 Axes>"
            ]
          },
          "metadata": {
            "tags": []
          }
        }
      ]
    },
    {
      "cell_type": "markdown",
      "metadata": {
        "id": "AR7qYB9fJL1L",
        "colab_type": "text"
      },
      "source": [
        "##References:\n",
        "\n",
        "There are many great resources to get started with Deep Learning:\n",
        "\n",
        "(1) [Deep Learning Book (Goodfellow-et-al-2016)](http://www.deeplearningbook.org/)\n",
        "\n",
        "(2) [Machine Learning and Pattern Recognition Book (Bishop)](https://www.microsoft.com/en-us/research/uploads/prod/2006/01/Bishop-Pattern-Recognition-and-Machine-Learning-2006.pdf)\n",
        "\n",
        "(3) [Video lectures associate with the Deep Learning Book recorded by Alena Kruchkova](https://www.youtube.com/channel/UCF9O8Vj-FEbRDA5DcDGz-Pg/videos)\n",
        "\n",
        "(4) [Youtube link to the Deep Learning AI cource by Andrew Ng](https://www.youtube.com/channel/UCcIXc5mJsHVYTZR1maL5l9w/featured)\n",
        "\n",
        "(5) [Nice intuitive explanation of how Neural Networks work by 3Blue1Brown](https://youtu.be/aircAruvnKk)\n",
        "\n",
        "(6) [Tensorflow tutorials](https://www.tensorflow.org/tutorials/index.html)"
      ]
    },
    {
      "cell_type": "code",
      "metadata": {
        "id": "6fhGb3EPL4Bz",
        "colab_type": "code",
        "colab": {}
      },
      "source": [
        ""
      ],
      "execution_count": 0,
      "outputs": []
    }
  ]
}