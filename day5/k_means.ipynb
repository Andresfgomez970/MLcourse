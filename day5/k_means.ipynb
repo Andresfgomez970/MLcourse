{
  "nbformat": 4,
  "nbformat_minor": 0,
  "metadata": {
    "colab": {
      "name": "k-means.ipynb",
      "provenance": [],
      "include_colab_link": true
    },
    "kernelspec": {
      "name": "python3",
      "display_name": "Python 3"
    }
  },
  "cells": [
    {
      "cell_type": "markdown",
      "metadata": {
        "id": "view-in-github",
        "colab_type": "text"
      },
      "source": [
        "<a href=\"https://colab.research.google.com/github/mjvakili/MLcourse/blob/master/day5/k_means.ipynb\" target=\"_parent\"><img src=\"https://colab.research.google.com/assets/colab-badge.svg\" alt=\"Open In Colab\"/></a>"
      ]
    },
    {
      "cell_type": "code",
      "metadata": {
        "id": "ro0mt25etCFJ",
        "colab_type": "code",
        "colab": {}
      },
      "source": [
        "import numpy as np\n",
        "import matplotlib.pyplot as plt"
      ],
      "execution_count": 0,
      "outputs": []
    },
    {
      "cell_type": "markdown",
      "metadata": {
        "id": "Bi-W2X8it0C1",
        "colab_type": "text"
      },
      "source": [
        "#$k$-means\n",
        "\n",
        "The goal of the $k$-means clustering algorithm to find a partitioning of a given dataset ($\\{x_i\\}_{i=1}^{N} \\; ; x_{i} \\in R^{D}$) into a finite number $K$ of clusters. \n",
        "\n",
        "Each data $x_{n}$ is assined to one-and only one cluster $k$, such that the distances between the points inside a cluster is smaller their distances to the points outside the cluster.\n",
        "\n",
        "\n",
        "$\\{x_{i}\\}_{i=1}^{N} \\rightarrow C_{k}, \\; k = 1,..,K$\n",
        "\n",
        "\n",
        "Consider the following example:"
      ]
    },
    {
      "cell_type": "code",
      "metadata": {
        "id": "ymk56MLaut48",
        "colab_type": "code",
        "colab": {
          "base_uri": "https://localhost:8080/",
          "height": 282
        },
        "outputId": "2c7b4d39-3eae-4725-b44c-5b964531c9c4"
      },
      "source": [
        "from sklearn.datasets.samples_generator import make_blobs\n",
        "X, y_true = make_blobs(n_samples=200, centers=2,\n",
        "                       cluster_std=[0.5, 0.1], random_state=0)\n",
        "plt.scatter(X[:, 0], X[:, 1], s=2)"
      ],
      "execution_count": 20,
      "outputs": [
        {
          "output_type": "execute_result",
          "data": {
            "text/plain": [
              "<matplotlib.collections.PathCollection at 0x7f32f4e52128>"
            ]
          },
          "metadata": {
            "tags": []
          },
          "execution_count": 20
        },
        {
          "output_type": "display_data",
          "data": {
            "image/png": "[encoded data removed]",
            "text/plain": [
              "<Figure size 432x288 with 1 Axes>"
            ]
          },
          "metadata": {
            "tags": []
          }
        }
      ]
    },
    {
      "cell_type": "markdown",
      "metadata": {
        "id": "I50uh_Adv9uB",
        "colab_type": "text"
      },
      "source": [
        "In this example we have two random;y generated *blobs* of points that are scattered, with different amounts, around two centers on the two dimensional Euclidean space. \n",
        "\n",
        "\n",
        "In the $k$-means algorithm, there are two sets of variables: \n",
        "\n",
        "(1) $K$ cluster centers (cluster means): $\\mu_{k}, \\; k = 1, ..., K$ \n",
        "\n",
        "(2) A matrix that assigns the datapoints to the $K$ cluster centers:  $\n",
        "    r_{ik}= \n",
        "\\begin{cases}\n",
        "    1, & \\text{if } x_{i} \\in C_{k}\\\\\n",
        "    0,              & \\text{otherwise}\n",
        "\\end{cases}\n",
        "$\n",
        "\n",
        "In summary, we have two tasks: $\\begin{cases}\n",
        "    \\text{(1) Choosing the optimal cluster means} \\\\\n",
        "    \\text{(2) Choosing the optimal cluster assignment}\n",
        "\\end{cases}\n",
        "$\n",
        "\n",
        "These two tasks can be achieved by minimizing the following sum of the square distances between the points and the cluster centers:\n",
        "\n",
        "$E = \\sum_{i=1}^{N} \\sum_{k=1}^{K} \\; r_{ik} || x_{i} - \\mu_{k}||^{2}$.\n",
        "\n",
        "In other words, minimization of $E$ will provide us with the optimal $r_{ik}$ and $\\mu_{k}$. \n",
        "\n",
        "#Optimization procedure:\n",
        "\n",
        "(1) Choose som initial values for the cluster centers $\\{\\mu_k\\}$;\n",
        "\n",
        "(2) Repeat \n",
        "\n",
        "$\n",
        "\\begin{cases}\n",
        "    \\text{For} \\; i \\in {i,..., N}: \\begin{cases}r_{ik} = 1 \\;\\; \\text{if} \\; k = \\text{argmin}_j ||x_{i} -\\mu_{j}||^2,  \\\\ \n",
        "    r_{ik} = 0 \\;\\; \\text{if otherwise}\\end{cases} \n",
        "    \\\\\n",
        "    \\mu_{k} = \\frac{\\sum_{i \\in C_{k}}r_{ik}x_{i}}{\\sum_{i \\in C_{k}} r_{ik}}\n",
        "\\end{cases}\n",
        "$\n",
        "\n",
        "The step (2) is repeated until $E$ is converged, or equivalently, until there are no further changes to the cluster means and the cluster assignments. \n",
        "The computational complexity of the above operation is $O(NK)$, where $N$ is the number of data points and $K$ is the number of clusters.\n"
      ]
    },
    {
      "cell_type": "code",
      "metadata": {
        "id": "RAEOhFDLwmAt",
        "colab_type": "code",
        "colab": {}
      },
      "source": [
        ""
      ],
      "execution_count": 0,
      "outputs": []
    }
  ]
}