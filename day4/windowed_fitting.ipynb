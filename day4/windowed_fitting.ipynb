{
  "nbformat": 4,
  "nbformat_minor": 0,
  "metadata": {
    "colab": {
      "name": "windowed_fitting.ipynb",
      "provenance": [],
      "include_colab_link": true
    },
    "kernelspec": {
      "name": "python3",
      "display_name": "Python 3"
    }
  },
  "cells": [
    {
      "cell_type": "markdown",
      "metadata": {
        "id": "view-in-github",
        "colab_type": "text"
      },
      "source": [
        "<a href=\"https://colab.research.google.com/github/mjvakili/MLcourse/blob/master/day4/windowed_fitting.ipynb\" target=\"_parent\"><img src=\"https://colab.research.google.com/assets/colab-badge.svg\" alt=\"Open In Colab\"/></a>"
      ]
    },
    {
      "cell_type": "code",
      "metadata": {
        "id": "FUB7Qr9GXe4c",
        "colab_type": "code",
        "colab": {
          "base_uri": "https://localhost:8080/",
          "height": 63
        },
        "outputId": "769f039d-9b6b-42f8-9670-e40c48aeb189"
      },
      "source": [
        "import numpy as np\n",
        "import matplotlib.pyplot as plt\n",
        "import pandas\n",
        "import math\n",
        "import tensorflow as tf\n",
        "from sklearn.preprocessing import MinMaxScaler\n",
        "from sklearn.metrics import mean_squared_error"
      ],
      "execution_count": 1,
      "outputs": [
        {
          "output_type": "display_data",
          "data": {
            "text/html": [
              "<p style=\"color: red;\">\n",
              "The default version of TensorFlow in Colab will soon switch to TensorFlow 2.x.<br>\n",
              "We recommend you <a href=\"https://www.tensorflow.org/guide/migrate\" target=\"_blank\">upgrade</a> now \n",
              "or ensure your notebook will continue to use TensorFlow 1.x via the <code>%tensorflow_version 1.x</code> magic:\n",
              "<a href=\"https://colab.research.google.com/notebooks/tensorflow_version.ipynb\" target=\"_blank\">more info</a>.</p>\n"
            ],
            "text/plain": [
              "<IPython.core.display.HTML object>"
            ]
          },
          "metadata": {
            "tags": []
          }
        }
      ]
    },
    {
      "cell_type": "code",
      "metadata": {
        "id": "mXkEK_xoXrgT",
        "colab_type": "code",
        "colab": {}
      },
      "source": [
        "#Downloading the data from statsmodels library\n",
        "from statsmodels.datasets import co2\n",
        "data = co2.load_pandas().data\n",
        "#changing the date units to julian date\n",
        "t = 2000 + (np.array(data.index.to_julian_date()) - 2451545.0) / 365.25\n",
        "y = np.array(data.co2)\n",
        "#Drop the NaNs for now! Note that you can also use backward fill or forwardfill functionalities in panda\n",
        "m = np.isfinite(t) & np.isfinite(y)\n",
        "#The data with dropped missing values!\n",
        "t, y = t[m], y[m]"
      ],
      "execution_count": 0,
      "outputs": []
    },
    {
      "cell_type": "markdown",
      "metadata": {
        "id": "YI2Bt1fOYX6Z",
        "colab_type": "text"
      },
      "source": [
        "In order to analyze this time series, we generate a windowed dataset:\n",
        "We use a sliding window of a specified length to divide the data into partitions of equal size. We treat these windowed datasets as the inputs and the immediate value of the time series after each window as the output. \n",
        "\n",
        "Let's imagine that the window size is 4, then the list of inputs are:\n",
        "\n",
        "$X = \\{(x_1, x_2, x_3, x_4), (x_2, x_3, x_4, x_5), ... \\}$ while the list of outputs are $Y= \\{y_5, y_6, ....\\}$. In other words, we use the values in the past in order to make prediction about the values in the future. "
      ]
    }
  ]
}