{
  "nbformat": 4,
  "nbformat_minor": 0,
  "metadata": {
    "colab": {
      "name": "Decision_trees.ipynb",
      "provenance": [],
      "collapsed_sections": [],
      "include_colab_link": true
    },
    "kernelspec": {
      "name": "python3",
      "display_name": "Python 3"
    }
  },
  "cells": [
    {
      "cell_type": "markdown",
      "metadata": {
        "id": "view-in-github",
        "colab_type": "text"
      },
      "source": [
        "<a href=\"https://colab.research.google.com/github/mjvakili/MLcourse/blob/master/day1/Decision_trees.ipynb\" target=\"_parent\"><img src=\"https://colab.research.google.com/assets/colab-badge.svg\" alt=\"Open In Colab\"/></a>"
      ]
    },
    {
      "cell_type": "markdown",
      "metadata": {
        "id": "HSR1MZqes8lD",
        "colab_type": "text"
      },
      "source": [
        "#Decision trees\n",
        "\n",
        "Decision trees is a classification method in which decision boundaries between 2 or more classes are obtained by recursively dividing a given dataset into branches based on the features of the dataset.\n",
        "\n",
        "Consider the example of **Car Evaluation Dataset** ([link text](https://archive.ics.uci.edu/ml/datasets/Car+Evaluation)) included in the list of UC Irvine Machine Learning Datasets. This data includes $\\sim$ 1700 instances, each with 6 categorical features and 1 label. The categorical features are different car characteristics (**cost, number of doors, luggage space, safety, etc**) and the labels are the values. \n",
        "\n",
        "This is a very simple dataset with no correlation between the different features. But it serves as a nice example to gain intuition about how a decsiion tree classifier works. \n",
        "\n",
        "In what follows we copy the dataset, explore it a bit, build a simple model, and then we visualize the model. Then we try to explain different aspects of the model. \n"
      ]
    },
    {
      "cell_type": "markdown",
      "metadata": {
        "id": "0epE3Ibc3KeM",
        "colab_type": "text"
      },
      "source": [
        "First let's start by importing the modules needed for this session"
      ]
    },
    {
      "cell_type": "code",
      "metadata": {
        "id": "wJLC3pGQzIde",
        "colab_type": "code",
        "colab": {}
      },
      "source": [
        "import pandas as pd\n",
        "import seaborn as sns\n",
        "import matplotlib.pyplot as plt\n",
        "from sklearn.utils import shuffle\n",
        "from sklearn.tree import DecisionTreeClassifier\n",
        "from sklearn import tree\n",
        "from IPython.display import display\n",
        "import graphviz\n",
        "from sklearn.pipeline import make_pipeline\n",
        "from sklearn.model_selection import GridSearchCV\n",
        "import numpy as np"
      ],
      "execution_count": 0,
      "outputs": []
    },
    {
      "cell_type": "markdown",
      "metadata": {
        "id": "QXjzpsn53Zd5",
        "colab_type": "text"
      },
      "source": [
        "Now we temporarily save acopy of the data"
      ]
    },
    {
      "cell_type": "code",
      "metadata": {
        "id": "xxTk8JDm2Nrv",
        "colab_type": "code",
        "outputId": "691f08aa-de65-4824-eeff-a166d6deca72",
        "colab": {
          "base_uri": "https://localhost:8080/",
          "height": 204
        }
      },
      "source": [
        "!wget --no-check-certificate \\\n",
        "    https://archive.ics.uci.edu/ml/machine-learning-databases/car/car.data \\\n",
        "    -O /tmp/car"
      ],
      "execution_count": 2,
      "outputs": [
        {
          "output_type": "stream",
          "text": [
            "--2019-11-25 09:22:15--  https://archive.ics.uci.edu/ml/machine-learning-databases/car/car.data\n",
            "Resolving archive.ics.uci.edu (archive.ics.uci.edu)... 128.195.10.252\n",
            "Connecting to archive.ics.uci.edu (archive.ics.uci.edu)|128.195.10.252|:443... connected.\n",
            "HTTP request sent, awaiting response... 200 OK\n",
            "Length: 51867 (51K) [application/x-httpd-php]\n",
            "Saving to: ‘/tmp/car’\n",
            "\n",
            "/tmp/car            100%[===================>]  50.65K  --.-KB/s    in 0.1s    \n",
            "\n",
            "2019-11-25 09:22:20 (401 KB/s) - ‘/tmp/car’ saved [51867/51867]\n",
            "\n"
          ],
          "name": "stdout"
        }
      ]
    },
    {
      "cell_type": "markdown",
      "metadata": {
        "id": "8tct_YLT3rdv",
        "colab_type": "text"
      },
      "source": [
        "Let's load the data with panda and name the columns according to the descriotion of the data ([car data](https://archive.ics.uci.edu/ml/machine-learning-databases/car/car.data))"
      ]
    },
    {
      "cell_type": "code",
      "metadata": {
        "id": "nkRrJy4F2NkB",
        "colab_type": "code",
        "colab": {}
      },
      "source": [
        "data = pd.read_csv(\"/tmp/car\", sep = \",\", header = None)\n",
        "data.columns = ['price', 'maintenance', 'ndoors', 'npersons', 'luggage', 'safety', 'value']"
      ],
      "execution_count": 0,
      "outputs": []
    },
    {
      "cell_type": "code",
      "metadata": {
        "id": "2zdSdHi_23Mo",
        "colab_type": "code",
        "outputId": "59c4a39f-f66a-4910-8149-adafe2b788c2",
        "colab": {
          "base_uri": "https://localhost:8080/",
          "height": 204
        }
      },
      "source": [
        "#let's look at the first five rows of the data\n",
        "data.head()"
      ],
      "execution_count": 4,
      "outputs": [
        {
          "output_type": "execute_result",
          "data": {
            "text/html": [
              "<div>\n",
              "<style scoped>\n",
              "    .dataframe tbody tr th:only-of-type {\n",
              "        vertical-align: middle;\n",
              "    }\n",
              "\n",
              "    .dataframe tbody tr th {\n",
              "        vertical-align: top;\n",
              "    }\n",
              "\n",
              "    .dataframe thead th {\n",
              "        text-align: right;\n",
              "    }\n",
              "</style>\n",
              "<table border=\"1\" class=\"dataframe\">\n",
              "  <thead>\n",
              "    <tr style=\"text-align: right;\">\n",
              "      <th></th>\n",
              "      <th>price</th>\n",
              "      <th>maintenance</th>\n",
              "      <th>ndoors</th>\n",
              "      <th>npersons</th>\n",
              "      <th>luggage</th>\n",
              "      <th>safety</th>\n",
              "      <th>value</th>\n",
              "    </tr>\n",
              "  </thead>\n",
              "  <tbody>\n",
              "    <tr>\n",
              "      <th>0</th>\n",
              "      <td>vhigh</td>\n",
              "      <td>vhigh</td>\n",
              "      <td>2</td>\n",
              "      <td>2</td>\n",
              "      <td>small</td>\n",
              "      <td>low</td>\n",
              "      <td>unacc</td>\n",
              "    </tr>\n",
              "    <tr>\n",
              "      <th>1</th>\n",
              "      <td>vhigh</td>\n",
              "      <td>vhigh</td>\n",
              "      <td>2</td>\n",
              "      <td>2</td>\n",
              "      <td>small</td>\n",
              "      <td>med</td>\n",
              "      <td>unacc</td>\n",
              "    </tr>\n",
              "    <tr>\n",
              "      <th>2</th>\n",
              "      <td>vhigh</td>\n",
              "      <td>vhigh</td>\n",
              "      <td>2</td>\n",
              "      <td>2</td>\n",
              "      <td>small</td>\n",
              "      <td>high</td>\n",
              "      <td>unacc</td>\n",
              "    </tr>\n",
              "    <tr>\n",
              "      <th>3</th>\n",
              "      <td>vhigh</td>\n",
              "      <td>vhigh</td>\n",
              "      <td>2</td>\n",
              "      <td>2</td>\n",
              "      <td>med</td>\n",
              "      <td>low</td>\n",
              "      <td>unacc</td>\n",
              "    </tr>\n",
              "    <tr>\n",
              "      <th>4</th>\n",
              "      <td>vhigh</td>\n",
              "      <td>vhigh</td>\n",
              "      <td>2</td>\n",
              "      <td>2</td>\n",
              "      <td>med</td>\n",
              "      <td>med</td>\n",
              "      <td>unacc</td>\n",
              "    </tr>\n",
              "  </tbody>\n",
              "</table>\n",
              "</div>"
            ],
            "text/plain": [
              "   price maintenance ndoors npersons luggage safety  value\n",
              "0  vhigh       vhigh      2        2   small    low  unacc\n",
              "1  vhigh       vhigh      2        2   small    med  unacc\n",
              "2  vhigh       vhigh      2        2   small   high  unacc\n",
              "3  vhigh       vhigh      2        2     med    low  unacc\n",
              "4  vhigh       vhigh      2        2     med    med  unacc"
            ]
          },
          "metadata": {
            "tags": []
          },
          "execution_count": 4
        }
      ]
    },
    {
      "cell_type": "code",
      "metadata": {
        "id": "HV4fHTAMwJVJ",
        "colab_type": "code",
        "colab": {}
      },
      "source": [
        "#it's always a good idea to randomize the rows of the data so that the algorithm is not biased due to ordering in the data\n",
        "data = shuffle(data)"
      ],
      "execution_count": 0,
      "outputs": []
    },
    {
      "cell_type": "markdown",
      "metadata": {
        "id": "lmZmw3d34lUr",
        "colab_type": "text"
      },
      "source": [
        "Some of the categorical features in the data are strings and some are numbers. In what follows, we map the possible values of each feature to numbers."
      ]
    },
    {
      "cell_type": "code",
      "metadata": {
        "id": "abE9hhSr9mnh",
        "colab_type": "code",
        "colab": {}
      },
      "source": [
        "price_mapping = {'vhigh': 3, 'high': 2, 'med': 1, 'low': 0}\n",
        "data['price'] = data['price'].map(price_mapping)\n",
        "maint_mapping = {'vhigh': 3, 'high': 2, 'med': 1, 'low': 0}\n",
        "data['maintenance'] = data['maintenance'].map(maint_mapping)\n",
        "data.loc[(data['ndoors'] == '5more'), 'ndoors'] = 5\n",
        "data.loc[(data['npersons'] == 'more'), 'npersons'] = 5\n",
        "lug_mapping = {'big': 2, 'med': 1, 'small': 0}\n",
        "data['luggage'] = data['luggage'].map(lug_mapping)\n",
        "safety_mapping = {'high': 2, 'med': 1, 'low': 0}\n",
        "data['safety'] = data['safety'].map(safety_mapping)\n",
        "value_mapping = {'unacc':0, 'acc':1, 'good':2, 'vgood':3}\n",
        "data['value'] = data['value'].map(value_mapping)"
      ],
      "execution_count": 0,
      "outputs": []
    },
    {
      "cell_type": "code",
      "metadata": {
        "id": "qz-rTmjcw_Zl",
        "colab_type": "code",
        "colab": {
          "base_uri": "https://localhost:8080/",
          "height": 595
        },
        "outputId": "ac83197b-34fd-4034-e2f8-e34f916dc2b3"
      },
      "source": [
        "#Now let's look at the correlations between the features and also their correlation with the car value\n",
        "plt.figure(figsize=(10,10))\n",
        "plt.title('Pearson Correlation of Features', y=1.05, size=5)\n",
        "sns.heatmap(data.astype(float).corr(),linewidths=0.1,vmax=1.0, square=True, linecolor='white', annot=True)"
      ],
      "execution_count": 9,
      "outputs": [
        {
          "output_type": "execute_result",
          "data": {
            "text/plain": [
              "<matplotlib.axes._subplots.AxesSubplot at 0x7fb07f11c5c0>"
            ]
          },
          "metadata": {
            "tags": []
          },
          "execution_count": 9
        },
        {
          "output_type": "display_data",
          "data": {
            "image/png": "[encoded data removed]",
            "text/plain": [
              "<Figure size 720x720 with 2 Axes>"
            ]
          },
          "metadata": {
            "tags": []
          }
        }
      ]
    },
    {
      "cell_type": "code",
      "metadata": {
        "id": "lFsZQ9297OyA",
        "colab_type": "code",
        "colab": {
          "base_uri": "https://localhost:8080/",
          "height": 204
        },
        "outputId": "28518bd5-da02-48eb-d8a9-da40cff9f50f"
      },
      "source": [
        "#let's look at the top rows of the data again\n",
        "data.head()"
      ],
      "execution_count": 10,
      "outputs": [
        {
          "output_type": "execute_result",
          "data": {
            "text/html": [
              "<div>\n",
              "<style scoped>\n",
              "    .dataframe tbody tr th:only-of-type {\n",
              "        vertical-align: middle;\n",
              "    }\n",
              "\n",
              "    .dataframe tbody tr th {\n",
              "        vertical-align: top;\n",
              "    }\n",
              "\n",
              "    .dataframe thead th {\n",
              "        text-align: right;\n",
              "    }\n",
              "</style>\n",
              "<table border=\"1\" class=\"dataframe\">\n",
              "  <thead>\n",
              "    <tr style=\"text-align: right;\">\n",
              "      <th></th>\n",
              "      <th>price</th>\n",
              "      <th>maintenance</th>\n",
              "      <th>ndoors</th>\n",
              "      <th>npersons</th>\n",
              "      <th>luggage</th>\n",
              "      <th>safety</th>\n",
              "      <th>value</th>\n",
              "    </tr>\n",
              "  </thead>\n",
              "  <tbody>\n",
              "    <tr>\n",
              "      <th>437</th>\n",
              "      <td>2</td>\n",
              "      <td>3</td>\n",
              "      <td>2</td>\n",
              "      <td>2</td>\n",
              "      <td>1</td>\n",
              "      <td>2</td>\n",
              "      <td>0</td>\n",
              "    </tr>\n",
              "    <tr>\n",
              "      <th>1399</th>\n",
              "      <td>0</td>\n",
              "      <td>3</td>\n",
              "      <td>5</td>\n",
              "      <td>5</td>\n",
              "      <td>1</td>\n",
              "      <td>1</td>\n",
              "      <td>1</td>\n",
              "    </tr>\n",
              "    <tr>\n",
              "      <th>46</th>\n",
              "      <td>3</td>\n",
              "      <td>3</td>\n",
              "      <td>3</td>\n",
              "      <td>5</td>\n",
              "      <td>0</td>\n",
              "      <td>1</td>\n",
              "      <td>0</td>\n",
              "    </tr>\n",
              "    <tr>\n",
              "      <th>381</th>\n",
              "      <td>3</td>\n",
              "      <td>0</td>\n",
              "      <td>4</td>\n",
              "      <td>2</td>\n",
              "      <td>1</td>\n",
              "      <td>0</td>\n",
              "      <td>0</td>\n",
              "    </tr>\n",
              "    <tr>\n",
              "      <th>216</th>\n",
              "      <td>3</td>\n",
              "      <td>1</td>\n",
              "      <td>2</td>\n",
              "      <td>2</td>\n",
              "      <td>0</td>\n",
              "      <td>0</td>\n",
              "      <td>0</td>\n",
              "    </tr>\n",
              "  </tbody>\n",
              "</table>\n",
              "</div>"
            ],
            "text/plain": [
              "      price  maintenance ndoors npersons  luggage  safety  value\n",
              "437       2            3      2        2        1       2      0\n",
              "1399      0            3      5        5        1       1      1\n",
              "46        3            3      3        5        0       1      0\n",
              "381       3            0      4        2        1       0      0\n",
              "216       3            1      2        2        0       0      0"
            ]
          },
          "metadata": {
            "tags": []
          },
          "execution_count": 10
        }
      ]
    },
    {
      "cell_type": "markdown",
      "metadata": {
        "id": "ujsdZJnOOQur",
        "colab_type": "text"
      },
      "source": [
        "Now we quickly fit a decision tree classifier to the data. We will go over the details of the model a bit later."
      ]
    },
    {
      "cell_type": "code",
      "metadata": {
        "id": "tIMwaUDGOe71",
        "colab_type": "code",
        "colab": {}
      },
      "source": [
        "from sklearn.model_selection import train_test_split\n",
        "X, y = data.drop(\"value\", axis = 1), data['value']\n",
        "X_trainval, X_test, y_trainval, y_test = train_test_split(X, y, train_size = 0.8)"
      ],
      "execution_count": 0,
      "outputs": []
    },
    {
      "cell_type": "code",
      "metadata": {
        "id": "Bz96c6bt69NT",
        "colab_type": "code",
        "colab": {
          "base_uri": "https://localhost:8080/",
          "height": 391
        },
        "outputId": "d67207ec-3c8d-40cf-b9f6-dc1117fde9df"
      },
      "source": [
        "grid = GridSearchCV(make_pipeline(DecisionTreeClassifier()),\n",
        "                    param_grid={'decisiontreeclassifier__max_depth': np.arange(2,20)},\n",
        "                    cv=5)\n",
        "grid.fit(X_trainval, y_trainval)"
      ],
      "execution_count": 14,
      "outputs": [
        {
          "output_type": "execute_result",
          "data": {
            "text/plain": [
              "GridSearchCV(cv=5, error_score='raise-deprecating',\n",
              "             estimator=Pipeline(memory=None,\n",
              "                                steps=[('decisiontreeclassifier',\n",
              "                                        DecisionTreeClassifier(class_weight=None,\n",
              "                                                               criterion='gini',\n",
              "                                                               max_depth=None,\n",
              "                                                               max_features=None,\n",
              "                                                               max_leaf_nodes=None,\n",
              "                                                               min_impurity_decrease=0.0,\n",
              "                                                               min_impurity_split=None,\n",
              "                                                               min_samples_leaf=1,\n",
              "                                                               min_samples_split=2,\n",
              "                                                               min_weight_fraction_leaf=0.0,\n",
              "                                                               presort=False,\n",
              "                                                               random_state=None,\n",
              "                                                               splitter='best'))],\n",
              "                                verbose=False),\n",
              "             iid='warn', n_jobs=None,\n",
              "             param_grid={'decisiontreeclassifier__max_depth': array([ 2,  3,  4,  5,  6,  7,  8,  9, 10, 11, 12, 13, 14, 15, 16, 17, 18,\n",
              "       19])},\n",
              "             pre_dispatch='2*n_jobs', refit=True, return_train_score=False,\n",
              "             scoring=None, verbose=0)"
            ]
          },
          "metadata": {
            "tags": []
          },
          "execution_count": 14
        }
      ]
    },
    {
      "cell_type": "code",
      "metadata": {
        "id": "q7pcLUtb7wPs",
        "colab_type": "code",
        "colab": {
          "base_uri": "https://localhost:8080/",
          "height": 34
        },
        "outputId": "a89b3584-3f57-415c-966f-e6bc011fb3d2"
      },
      "source": [
        "print(\"best model = \", grid.best_params_)"
      ],
      "execution_count": 21,
      "outputs": [
        {
          "output_type": "stream",
          "text": [
            "best model =  {'decisiontreeclassifier__max_depth': 12}\n"
          ],
          "name": "stdout"
        }
      ]
    },
    {
      "cell_type": "markdown",
      "metadata": {
        "id": "ZHl5J6zlRtoo",
        "colab_type": "text"
      },
      "source": [
        "This means that a Decsion tree classifier with a maximum depth of 12 is the model that minimizes the cross-validation error"
      ]
    },
    {
      "cell_type": "code",
      "metadata": {
        "id": "3nAfgsMXR8yy",
        "colab_type": "code",
        "colab": {
          "base_uri": "https://localhost:8080/",
          "height": 34
        },
        "outputId": "6439129c-c4bc-47ed-fbfe-94f0bb7eeb27"
      },
      "source": [
        "test_acc = grid.score(X_test, y_test)\n",
        "print(\"the test accuracy is = \", test_acc)"
      ],
      "execution_count": 25,
      "outputs": [
        {
          "output_type": "stream",
          "text": [
            "the test accuracy is =  0.976878612716763\n"
          ],
          "name": "stdout"
        }
      ]
    },
    {
      "cell_type": "code",
      "metadata": {
        "id": "2d-glOLe8Xsr",
        "colab_type": "code",
        "colab": {
          "base_uri": "https://localhost:8080/",
          "height": 509
        },
        "outputId": "14a48cbc-f796-4d76-fcfd-7a46f71d3085"
      },
      "source": [
        "best_model = DecisionTreeClassifier(max_depth = 12).fit(X_trainval, y_trainval)\n",
        "importances = best_model.feature_importances_\n",
        "df_imp = pd.Series(importances)\n",
        "print(importances)\n",
        "# Visualize importances.\n",
        "ax = (df_imp.iloc[:]\n",
        "    .plot(kind='barh',\n",
        "          color='C0',\n",
        "          title='Gain feature importances',\n",
        "          figsize=(10, 6)))\n",
        "ax.grid(False, axis='y')\n",
        "ax.set_yticklabels(X.columns, fontsize = 15)"
      ],
      "execution_count": 36,
      "outputs": [
        {
          "output_type": "stream",
          "text": [
            "[0.12742395 0.17731232 0.05904016 0.18778069 0.1344918  0.31395108]\n"
          ],
          "name": "stdout"
        },
        {
          "output_type": "execute_result",
          "data": {
            "text/plain": [
              "[Text(0, 0, 'price'),\n",
              " Text(0, 0, 'maintenance'),\n",
              " Text(0, 0, 'ndoors'),\n",
              " Text(0, 0, 'npersons'),\n",
              " Text(0, 0, 'luggage'),\n",
              " Text(0, 0, 'safety')]"
            ]
          },
          "metadata": {
            "tags": []
          },
          "execution_count": 36
        },
        {
          "output_type": "display_data",
          "data": {
            "image/png": "[encoded data removed]",
            "text/plain": [
              "<Figure size 720x432 with 1 Axes>"
            ]
          },
          "metadata": {
            "tags": []
          }
        }
      ]
    },
    {
      "cell_type": "markdown",
      "metadata": {
        "id": "-Viu0sITT7yk",
        "colab_type": "text"
      },
      "source": [
        "This shows that the according to the Decision tree model, the most important feature in determining the value of a car is safety."
      ]
    },
    {
      "cell_type": "markdown",
      "metadata": {
        "id": "OUCUpNO6UKyP",
        "colab_type": "text"
      },
      "source": [
        "#So how does a Decision Tree Classifier work?\n",
        "\n",
        "As mentioned before, this method draws decision boundaries in the space spanning the features of a given dataset. This is carried out by iteratively splitting the data into two subsets based on a given feature. \n",
        "\n",
        "In a decision tree, there are two important concepts: **nodes** and **branches**. The top node is the first node in a decsion tree and it contains the entire data. Then via a **branch** the top node is divided into two **child nodes** each containing disjoint subsets of the data. The **branch** is where the splitting based on a feature takes place. In the next iterations, the child nodes themselves are branched into smaller child nodes based on some feature in the data. And this process goes on until the splitting stops. \n",
        "\n",
        "Two important question arise: \n",
        "\n",
        "(1) Based on what criteria, does the splitting happen?\n",
        "\n",
        "(2) When does the branching process stop?\n",
        "\n",
        "Before answering these question, let's visulaize the tree model that we built with the car dataset."
      ]
    },
    {
      "cell_type": "code",
      "metadata": {
        "id": "LG_1ooSZ_tsm",
        "colab_type": "code",
        "colab": {
          "base_uri": "https://localhost:8080/",
          "height": 932
        },
        "outputId": "d3e38236-4838-46d5-b666-bd78c1885d0c"
      },
      "source": [
        "display(graphviz.Source(tree.export_graphviz(best_model, feature_names = X.keys(), max_depth = 5)))"
      ],
      "execution_count": 37,
      "outputs": [
        {
          "output_type": "display_data",
          "data": {
            "text/plain": [
              "<graphviz.files.Source at 0x7fb07afc07b8>"
            ],
            "image/svg+xml": "<?xml version=\"1.0\" encoding=\"UTF-8\" standalone=\"no\"?>\n<!DOCTYPE svg PUBLIC \"-//W3C//DTD SVG 1.1//EN\"\n \"http://www.w3.org/Graphics/SVG/1.1/DTD/svg11.dtd\">\n<!-- Generated by graphviz version 2.40.1 (20161225.0304)\n -->\n<!-- Title: Tree Pages: 1 -->\n<svg width=\"952pt\" height=\"668pt\"\n viewBox=\"0.00 0.00 952.00 668.00\" xmlns=\"http://www.w3.org/2000/svg\" xmlns:xlink=\"http://www.w3.org/1999/xlink\">\n<g id=\"graph0\" class=\"graph\" transform=\"scale(1 1) rotate(0) translate(4 664)\">\n<title>Tree</title>\n<polygon fill=\"#ffffff\" stroke=\"transparent\" points=\"-4,4 -4,-664 948,-664 948,4 -4,4\"/>\n<!-- 0 -->\n<g id=\"node1\" class=\"node\">\n<title>0</title>\n<polygon fill=\"none\" stroke=\"#000000\" points=\"499,-660 329,-660 329,-592 499,-592 499,-660\"/>\n<text text-anchor=\"middle\" x=\"414\" y=\"-644.8\" font-family=\"Times,serif\" font-size=\"14.00\" fill=\"#000000\">npersons &lt;= 3.0</text>\n<text text-anchor=\"middle\" x=\"414\" y=\"-629.8\" font-family=\"Times,serif\" font-size=\"14.00\" fill=\"#000000\">gini = 0.451</text>\n<text text-anchor=\"middle\" x=\"414\" y=\"-614.8\" font-family=\"Times,serif\" font-size=\"14.00\" fill=\"#000000\">samples = 1382</text>\n<text text-anchor=\"middle\" x=\"414\" y=\"-599.8\" font-family=\"Times,serif\" font-size=\"14.00\" fill=\"#000000\">value = [976, 302, 52, 52]</text>\n</g>\n<!-- 1 -->\n<g id=\"node2\" class=\"node\">\n<title>1</title>\n<polygon fill=\"none\" stroke=\"#000000\" points=\"398,-548.5 258,-548.5 258,-495.5 398,-495.5 398,-548.5\"/>\n<text text-anchor=\"middle\" x=\"328\" y=\"-533.3\" font-family=\"Times,serif\" font-size=\"14.00\" fill=\"#000000\">gini = 0.0</text>\n<text text-anchor=\"middle\" x=\"328\" y=\"-518.3\" font-family=\"Times,serif\" font-size=\"14.00\" fill=\"#000000\">samples = 466</text>\n<text text-anchor=\"middle\" x=\"328\" y=\"-503.3\" font-family=\"Times,serif\" font-size=\"14.00\" fill=\"#000000\">value = [466, 0, 0, 0]</text>\n</g>\n<!-- 0&#45;&gt;1 -->\n<g id=\"edge1\" class=\"edge\">\n<title>0&#45;&gt;1</title>\n<path fill=\"none\" stroke=\"#000000\" d=\"M385.8404,-591.9465C376.4587,-580.6012 366.0027,-567.9567 356.5887,-556.5724\"/>\n<polygon fill=\"#000000\" stroke=\"#000000\" points=\"359.0183,-554.0182 349.9483,-548.5422 353.6237,-558.4791 359.0183,-554.0182\"/>\n<text text-anchor=\"middle\" x=\"347.5905\" y=\"-569.7307\" font-family=\"Times,serif\" font-size=\"14.00\" fill=\"#000000\">True</text>\n</g>\n<!-- 2 -->\n<g id=\"node3\" class=\"node\">\n<title>2</title>\n<polygon fill=\"none\" stroke=\"#000000\" points=\"586,-556 416,-556 416,-488 586,-488 586,-556\"/>\n<text text-anchor=\"middle\" x=\"501\" y=\"-540.8\" font-family=\"Times,serif\" font-size=\"14.00\" fill=\"#000000\">safety &lt;= 0.5</text>\n<text text-anchor=\"middle\" x=\"501\" y=\"-525.8\" font-family=\"Times,serif\" font-size=\"14.00\" fill=\"#000000\">gini = 0.575</text>\n<text text-anchor=\"middle\" x=\"501\" y=\"-510.8\" font-family=\"Times,serif\" font-size=\"14.00\" fill=\"#000000\">samples = 916</text>\n<text text-anchor=\"middle\" x=\"501\" y=\"-495.8\" font-family=\"Times,serif\" font-size=\"14.00\" fill=\"#000000\">value = [510, 302, 52, 52]</text>\n</g>\n<!-- 0&#45;&gt;2 -->\n<g id=\"edge2\" class=\"edge\">\n<title>0&#45;&gt;2</title>\n<path fill=\"none\" stroke=\"#000000\" d=\"M442.4871,-591.9465C449.9979,-582.968 458.1895,-573.1758 466.0005,-563.8385\"/>\n<polygon fill=\"#000000\" stroke=\"#000000\" points=\"468.7171,-566.0459 472.4489,-556.13 463.348,-561.5544 468.7171,-566.0459\"/>\n<text text-anchor=\"middle\" x=\"474.6653\" y=\"-577.3316\" font-family=\"Times,serif\" font-size=\"14.00\" fill=\"#000000\">False</text>\n</g>\n<!-- 3 -->\n<g id=\"node4\" class=\"node\">\n<title>3</title>\n<polygon fill=\"none\" stroke=\"#000000\" points=\"485,-444.5 345,-444.5 345,-391.5 485,-391.5 485,-444.5\"/>\n<text text-anchor=\"middle\" x=\"415\" y=\"-429.3\" font-family=\"Times,serif\" font-size=\"14.00\" fill=\"#000000\">gini = 0.0</text>\n<text text-anchor=\"middle\" x=\"415\" y=\"-414.3\" font-family=\"Times,serif\" font-size=\"14.00\" fill=\"#000000\">samples = 308</text>\n<text text-anchor=\"middle\" x=\"415\" y=\"-399.3\" font-family=\"Times,serif\" font-size=\"14.00\" fill=\"#000000\">value = [308, 0, 0, 0]</text>\n</g>\n<!-- 2&#45;&gt;3 -->\n<g id=\"edge3\" class=\"edge\">\n<title>2&#45;&gt;3</title>\n<path fill=\"none\" stroke=\"#000000\" d=\"M472.8404,-487.9465C463.4587,-476.6012 453.0027,-463.9567 443.5887,-452.5724\"/>\n<polygon fill=\"#000000\" stroke=\"#000000\" points=\"446.0183,-450.0182 436.9483,-444.5422 440.6237,-454.4791 446.0183,-450.0182\"/>\n</g>\n<!-- 4 -->\n<g id=\"node5\" class=\"node\">\n<title>4</title>\n<polygon fill=\"none\" stroke=\"#000000\" points=\"673,-452 503,-452 503,-384 673,-384 673,-452\"/>\n<text text-anchor=\"middle\" x=\"588\" y=\"-436.8\" font-family=\"Times,serif\" font-size=\"14.00\" fill=\"#000000\">price &lt;= 1.5</text>\n<text text-anchor=\"middle\" x=\"588\" y=\"-421.8\" font-family=\"Times,serif\" font-size=\"14.00\" fill=\"#000000\">gini = 0.628</text>\n<text text-anchor=\"middle\" x=\"588\" y=\"-406.8\" font-family=\"Times,serif\" font-size=\"14.00\" fill=\"#000000\">samples = 608</text>\n<text text-anchor=\"middle\" x=\"588\" y=\"-391.8\" font-family=\"Times,serif\" font-size=\"14.00\" fill=\"#000000\">value = [202, 302, 52, 52]</text>\n</g>\n<!-- 2&#45;&gt;4 -->\n<g id=\"edge4\" class=\"edge\">\n<title>2&#45;&gt;4</title>\n<path fill=\"none\" stroke=\"#000000\" d=\"M529.4871,-487.9465C536.9979,-478.968 545.1895,-469.1758 553.0005,-459.8385\"/>\n<polygon fill=\"#000000\" stroke=\"#000000\" points=\"555.7171,-462.0459 559.4489,-452.13 550.348,-457.5544 555.7171,-462.0459\"/>\n</g>\n<!-- 5 -->\n<g id=\"node6\" class=\"node\">\n<title>5</title>\n<polygon fill=\"none\" stroke=\"#000000\" points=\"548,-348 386,-348 386,-280 548,-280 548,-348\"/>\n<text text-anchor=\"middle\" x=\"467\" y=\"-332.8\" font-family=\"Times,serif\" font-size=\"14.00\" fill=\"#000000\">maintenance &lt;= 1.5</text>\n<text text-anchor=\"middle\" x=\"467\" y=\"-317.8\" font-family=\"Times,serif\" font-size=\"14.00\" fill=\"#000000\">gini = 0.64</text>\n<text text-anchor=\"middle\" x=\"467\" y=\"-302.8\" font-family=\"Times,serif\" font-size=\"14.00\" fill=\"#000000\">samples = 308</text>\n<text text-anchor=\"middle\" x=\"467\" y=\"-287.8\" font-family=\"Times,serif\" font-size=\"14.00\" fill=\"#000000\">value = [39, 165, 52, 52]</text>\n</g>\n<!-- 4&#45;&gt;5 -->\n<g id=\"edge5\" class=\"edge\">\n<title>4&#45;&gt;5</title>\n<path fill=\"none\" stroke=\"#000000\" d=\"M548.3801,-383.9465C537.516,-374.6088 525.6282,-364.3911 514.3765,-354.7203\"/>\n<polygon fill=\"#000000\" stroke=\"#000000\" points=\"516.5741,-351.994 506.7089,-348.13 512.0113,-357.3026 516.5741,-351.994\"/>\n</g>\n<!-- 112 -->\n<g id=\"node21\" class=\"node\">\n<title>112</title>\n<polygon fill=\"none\" stroke=\"#000000\" points=\"787.5,-348 632.5,-348 632.5,-280 787.5,-280 787.5,-348\"/>\n<text text-anchor=\"middle\" x=\"710\" y=\"-332.8\" font-family=\"Times,serif\" font-size=\"14.00\" fill=\"#000000\">maintenance &lt;= 2.5</text>\n<text text-anchor=\"middle\" x=\"710\" y=\"-317.8\" font-family=\"Times,serif\" font-size=\"14.00\" fill=\"#000000\">gini = 0.496</text>\n<text text-anchor=\"middle\" x=\"710\" y=\"-302.8\" font-family=\"Times,serif\" font-size=\"14.00\" fill=\"#000000\">samples = 300</text>\n<text text-anchor=\"middle\" x=\"710\" y=\"-287.8\" font-family=\"Times,serif\" font-size=\"14.00\" fill=\"#000000\">value = [163, 137, 0, 0]</text>\n</g>\n<!-- 4&#45;&gt;112 -->\n<g id=\"edge20\" class=\"edge\">\n<title>4&#45;&gt;112</title>\n<path fill=\"none\" stroke=\"#000000\" d=\"M627.9474,-383.9465C638.9012,-374.6088 650.8873,-364.3911 662.232,-354.7203\"/>\n<polygon fill=\"#000000\" stroke=\"#000000\" points=\"664.6233,-357.2809 669.9629,-348.13 660.0821,-351.9538 664.6233,-357.2809\"/>\n</g>\n<!-- 6 -->\n<g id=\"node7\" class=\"node\">\n<title>6</title>\n<polygon fill=\"none\" stroke=\"#000000\" points=\"305.5,-244 158.5,-244 158.5,-176 305.5,-176 305.5,-244\"/>\n<text text-anchor=\"middle\" x=\"232\" y=\"-228.8\" font-family=\"Times,serif\" font-size=\"14.00\" fill=\"#000000\">safety &lt;= 1.5</text>\n<text text-anchor=\"middle\" x=\"232\" y=\"-213.8\" font-family=\"Times,serif\" font-size=\"14.00\" fill=\"#000000\">gini = 0.692</text>\n<text text-anchor=\"middle\" x=\"232\" y=\"-198.8\" font-family=\"Times,serif\" font-size=\"14.00\" fill=\"#000000\">samples = 151</text>\n<text text-anchor=\"middle\" x=\"232\" y=\"-183.8\" font-family=\"Times,serif\" font-size=\"14.00\" fill=\"#000000\">value = [7, 50, 52, 42]</text>\n</g>\n<!-- 5&#45;&gt;6 -->\n<g id=\"edge6\" class=\"edge\">\n<title>5&#45;&gt;6</title>\n<path fill=\"none\" stroke=\"#000000\" d=\"M390.0522,-279.9465C365.957,-269.2831 339.2686,-257.4721 314.7886,-246.6384\"/>\n<polygon fill=\"#000000\" stroke=\"#000000\" points=\"316.0856,-243.3849 305.5246,-242.5385 313.2527,-249.7861 316.0856,-243.3849\"/>\n</g>\n<!-- 65 -->\n<g id=\"node14\" class=\"node\">\n<title>65</title>\n<polygon fill=\"none\" stroke=\"#000000\" points=\"544,-244 390,-244 390,-176 544,-176 544,-244\"/>\n<text text-anchor=\"middle\" x=\"467\" y=\"-228.8\" font-family=\"Times,serif\" font-size=\"14.00\" fill=\"#000000\">safety &lt;= 1.5</text>\n<text text-anchor=\"middle\" x=\"467\" y=\"-213.8\" font-family=\"Times,serif\" font-size=\"14.00\" fill=\"#000000\">gini = 0.418</text>\n<text text-anchor=\"middle\" x=\"467\" y=\"-198.8\" font-family=\"Times,serif\" font-size=\"14.00\" fill=\"#000000\">samples = 157</text>\n<text text-anchor=\"middle\" x=\"467\" y=\"-183.8\" font-family=\"Times,serif\" font-size=\"14.00\" fill=\"#000000\">value = [32, 115, 0, 10]</text>\n</g>\n<!-- 5&#45;&gt;65 -->\n<g id=\"edge13\" class=\"edge\">\n<title>5&#45;&gt;65</title>\n<path fill=\"none\" stroke=\"#000000\" d=\"M467,-279.9465C467,-271.776 467,-262.9318 467,-254.3697\"/>\n<polygon fill=\"#000000\" stroke=\"#000000\" points=\"470.5001,-254.13 467,-244.13 463.5001,-254.13 470.5001,-254.13\"/>\n</g>\n<!-- 7 -->\n<g id=\"node8\" class=\"node\">\n<title>7</title>\n<polygon fill=\"none\" stroke=\"#000000\" points=\"140,-140 0,-140 0,-72 140,-72 140,-140\"/>\n<text text-anchor=\"middle\" x=\"70\" y=\"-124.8\" font-family=\"Times,serif\" font-size=\"14.00\" fill=\"#000000\">luggage &lt;= 0.5</text>\n<text text-anchor=\"middle\" x=\"70\" y=\"-109.8\" font-family=\"Times,serif\" font-size=\"14.00\" fill=\"#000000\">gini = 0.537</text>\n<text text-anchor=\"middle\" x=\"70\" y=\"-94.8\" font-family=\"Times,serif\" font-size=\"14.00\" fill=\"#000000\">samples = 72</text>\n<text text-anchor=\"middle\" x=\"70\" y=\"-79.8\" font-family=\"Times,serif\" font-size=\"14.00\" fill=\"#000000\">value = [4, 40, 28, 0]</text>\n</g>\n<!-- 6&#45;&gt;7 -->\n<g id=\"edge7\" class=\"edge\">\n<title>6&#45;&gt;7</title>\n<path fill=\"none\" stroke=\"#000000\" d=\"M178.9551,-175.9465C163.8505,-166.2497 147.2676,-155.6039 131.6954,-145.6069\"/>\n<polygon fill=\"#000000\" stroke=\"#000000\" points=\"133.47,-142.5871 123.164,-140.13 129.6884,-148.4777 133.47,-142.5871\"/>\n</g>\n<!-- 34 -->\n<g id=\"node11\" class=\"node\">\n<title>34</title>\n<polygon fill=\"none\" stroke=\"#000000\" points=\"305.5,-140 158.5,-140 158.5,-72 305.5,-72 305.5,-140\"/>\n<text text-anchor=\"middle\" x=\"232\" y=\"-124.8\" font-family=\"Times,serif\" font-size=\"14.00\" fill=\"#000000\">luggage &lt;= 0.5</text>\n<text text-anchor=\"middle\" x=\"232\" y=\"-109.8\" font-family=\"Times,serif\" font-size=\"14.00\" fill=\"#000000\">gini = 0.608</text>\n<text text-anchor=\"middle\" x=\"232\" y=\"-94.8\" font-family=\"Times,serif\" font-size=\"14.00\" fill=\"#000000\">samples = 79</text>\n<text text-anchor=\"middle\" x=\"232\" y=\"-79.8\" font-family=\"Times,serif\" font-size=\"14.00\" fill=\"#000000\">value = [3, 10, 24, 42]</text>\n</g>\n<!-- 6&#45;&gt;34 -->\n<g id=\"edge10\" class=\"edge\">\n<title>6&#45;&gt;34</title>\n<path fill=\"none\" stroke=\"#000000\" d=\"M232,-175.9465C232,-167.776 232,-158.9318 232,-150.3697\"/>\n<polygon fill=\"#000000\" stroke=\"#000000\" points=\"235.5001,-150.13 232,-140.13 228.5001,-150.13 235.5001,-150.13\"/>\n</g>\n<!-- 8 -->\n<g id=\"node9\" class=\"node\">\n<title>8</title>\n<polygon fill=\"none\" stroke=\"#000000\" points=\"61,-36 7,-36 7,0 61,0 61,-36\"/>\n<text text-anchor=\"middle\" x=\"34\" y=\"-14.3\" font-family=\"Times,serif\" font-size=\"14.00\" fill=\"#000000\">(...)</text>\n</g>\n<!-- 7&#45;&gt;8 -->\n<g id=\"edge8\" class=\"edge\">\n<title>7&#45;&gt;8</title>\n<path fill=\"none\" stroke=\"#000000\" d=\"M56.0815,-71.9769C52.4977,-63.2167 48.6862,-53.8995 45.2564,-45.5157\"/>\n<polygon fill=\"#000000\" stroke=\"#000000\" points=\"48.468,-44.1222 41.4422,-36.192 41.9891,-46.7727 48.468,-44.1222\"/>\n</g>\n<!-- 13 -->\n<g id=\"node10\" class=\"node\">\n<title>13</title>\n<polygon fill=\"none\" stroke=\"#000000\" points=\"133,-36 79,-36 79,0 133,0 133,-36\"/>\n<text text-anchor=\"middle\" x=\"106\" y=\"-14.3\" font-family=\"Times,serif\" font-size=\"14.00\" fill=\"#000000\">(...)</text>\n</g>\n<!-- 7&#45;&gt;13 -->\n<g id=\"edge9\" class=\"edge\">\n<title>7&#45;&gt;13</title>\n<path fill=\"none\" stroke=\"#000000\" d=\"M83.9185,-71.9769C87.5023,-63.2167 91.3138,-53.8995 94.7436,-45.5157\"/>\n<polygon fill=\"#000000\" stroke=\"#000000\" points=\"98.0109,-46.7727 98.5578,-36.192 91.532,-44.1222 98.0109,-46.7727\"/>\n</g>\n<!-- 35 -->\n<g id=\"node12\" class=\"node\">\n<title>35</title>\n<polygon fill=\"none\" stroke=\"#000000\" points=\"231,-36 177,-36 177,0 231,0 231,-36\"/>\n<text text-anchor=\"middle\" x=\"204\" y=\"-14.3\" font-family=\"Times,serif\" font-size=\"14.00\" fill=\"#000000\">(...)</text>\n</g>\n<!-- 34&#45;&gt;35 -->\n<g id=\"edge11\" class=\"edge\">\n<title>34&#45;&gt;35</title>\n<path fill=\"none\" stroke=\"#000000\" d=\"M221.1745,-71.9769C218.4174,-63.3119 215.487,-54.102 212.8421,-45.7894\"/>\n<polygon fill=\"#000000\" stroke=\"#000000\" points=\"216.1557,-44.66 209.7883,-36.192 209.4852,-46.7825 216.1557,-44.66\"/>\n</g>\n<!-- 48 -->\n<g id=\"node13\" class=\"node\">\n<title>48</title>\n<polygon fill=\"none\" stroke=\"#000000\" points=\"303,-36 249,-36 249,0 303,0 303,-36\"/>\n<text text-anchor=\"middle\" x=\"276\" y=\"-14.3\" font-family=\"Times,serif\" font-size=\"14.00\" fill=\"#000000\">(...)</text>\n</g>\n<!-- 34&#45;&gt;48 -->\n<g id=\"edge12\" class=\"edge\">\n<title>34&#45;&gt;48</title>\n<path fill=\"none\" stroke=\"#000000\" d=\"M249.0115,-71.9769C253.4393,-63.1215 258.1516,-53.6969 262.3787,-45.2427\"/>\n<polygon fill=\"#000000\" stroke=\"#000000\" points=\"265.5623,-46.7015 266.904,-36.192 259.3013,-43.571 265.5623,-46.7015\"/>\n</g>\n<!-- 66 -->\n<g id=\"node15\" class=\"node\">\n<title>66</title>\n<polygon fill=\"none\" stroke=\"#000000\" points=\"464,-140 324,-140 324,-72 464,-72 464,-140\"/>\n<text text-anchor=\"middle\" x=\"394\" y=\"-124.8\" font-family=\"Times,serif\" font-size=\"14.00\" fill=\"#000000\">luggage &lt;= 0.5</text>\n<text text-anchor=\"middle\" x=\"394\" y=\"-109.8\" font-family=\"Times,serif\" font-size=\"14.00\" fill=\"#000000\">gini = 0.47</text>\n<text text-anchor=\"middle\" x=\"394\" y=\"-94.8\" font-family=\"Times,serif\" font-size=\"14.00\" fill=\"#000000\">samples = 77</text>\n<text text-anchor=\"middle\" x=\"394\" y=\"-79.8\" font-family=\"Times,serif\" font-size=\"14.00\" fill=\"#000000\">value = [29, 48, 0, 0]</text>\n</g>\n<!-- 65&#45;&gt;66 -->\n<g id=\"edge14\" class=\"edge\">\n<title>65&#45;&gt;66</title>\n<path fill=\"none\" stroke=\"#000000\" d=\"M443.0971,-175.9465C436.9209,-167.1475 430.1962,-157.5672 423.761,-148.3993\"/>\n<polygon fill=\"#000000\" stroke=\"#000000\" points=\"426.5666,-146.3041 417.9566,-140.13 420.8371,-150.3258 426.5666,-146.3041\"/>\n</g>\n<!-- 89 -->\n<g id=\"node18\" class=\"node\">\n<title>89</title>\n<polygon fill=\"none\" stroke=\"#000000\" points=\"622,-140 482,-140 482,-72 622,-72 622,-140\"/>\n<text text-anchor=\"middle\" x=\"552\" y=\"-124.8\" font-family=\"Times,serif\" font-size=\"14.00\" fill=\"#000000\">price &lt;= 0.5</text>\n<text text-anchor=\"middle\" x=\"552\" y=\"-109.8\" font-family=\"Times,serif\" font-size=\"14.00\" fill=\"#000000\">gini = 0.282</text>\n<text text-anchor=\"middle\" x=\"552\" y=\"-94.8\" font-family=\"Times,serif\" font-size=\"14.00\" fill=\"#000000\">samples = 80</text>\n<text text-anchor=\"middle\" x=\"552\" y=\"-79.8\" font-family=\"Times,serif\" font-size=\"14.00\" fill=\"#000000\">value = [3, 67, 0, 10]</text>\n</g>\n<!-- 65&#45;&gt;89 -->\n<g id=\"edge17\" class=\"edge\">\n<title>65&#45;&gt;89</title>\n<path fill=\"none\" stroke=\"#000000\" d=\"M494.8322,-175.9465C502.097,-167.0578 510.0136,-157.3716 517.576,-148.1188\"/>\n<polygon fill=\"#000000\" stroke=\"#000000\" points=\"520.487,-150.0878 524.1053,-140.13 515.0669,-145.658 520.487,-150.0878\"/>\n</g>\n<!-- 67 -->\n<g id=\"node16\" class=\"node\">\n<title>67</title>\n<polygon fill=\"none\" stroke=\"#000000\" points=\"397,-36 343,-36 343,0 397,0 397,-36\"/>\n<text text-anchor=\"middle\" x=\"370\" y=\"-14.3\" font-family=\"Times,serif\" font-size=\"14.00\" fill=\"#000000\">(...)</text>\n</g>\n<!-- 66&#45;&gt;67 -->\n<g id=\"edge15\" class=\"edge\">\n<title>66&#45;&gt;67</title>\n<path fill=\"none\" stroke=\"#000000\" d=\"M384.721,-71.9769C382.3838,-63.4071 379.9012,-54.3043 377.6538,-46.0638\"/>\n<polygon fill=\"#000000\" stroke=\"#000000\" points=\"380.9694,-44.9187 374.9614,-36.192 374.216,-46.7605 380.9694,-44.9187\"/>\n</g>\n<!-- 72 -->\n<g id=\"node17\" class=\"node\">\n<title>72</title>\n<polygon fill=\"none\" stroke=\"#000000\" points=\"469,-36 415,-36 415,0 469,0 469,-36\"/>\n<text text-anchor=\"middle\" x=\"442\" y=\"-14.3\" font-family=\"Times,serif\" font-size=\"14.00\" fill=\"#000000\">(...)</text>\n</g>\n<!-- 66&#45;&gt;72 -->\n<g id=\"edge16\" class=\"edge\">\n<title>66&#45;&gt;72</title>\n<path fill=\"none\" stroke=\"#000000\" d=\"M412.5581,-71.9769C417.3883,-63.1215 422.529,-53.6969 427.1404,-45.2427\"/>\n<polygon fill=\"#000000\" stroke=\"#000000\" points=\"430.3612,-46.6469 432.0771,-36.192 424.2159,-43.2949 430.3612,-46.6469\"/>\n</g>\n<!-- 90 -->\n<g id=\"node19\" class=\"node\">\n<title>90</title>\n<polygon fill=\"none\" stroke=\"#000000\" points=\"552,-36 498,-36 498,0 552,0 552,-36\"/>\n<text text-anchor=\"middle\" x=\"525\" y=\"-14.3\" font-family=\"Times,serif\" font-size=\"14.00\" fill=\"#000000\">(...)</text>\n</g>\n<!-- 89&#45;&gt;90 -->\n<g id=\"edge18\" class=\"edge\">\n<title>89&#45;&gt;90</title>\n<path fill=\"none\" stroke=\"#000000\" d=\"M541.5611,-71.9769C538.9025,-63.3119 536.0767,-54.102 533.5263,-45.7894\"/>\n<polygon fill=\"#000000\" stroke=\"#000000\" points=\"536.861,-44.7254 530.5816,-36.192 530.1689,-46.7787 536.861,-44.7254\"/>\n</g>\n<!-- 105 -->\n<g id=\"node20\" class=\"node\">\n<title>105</title>\n<polygon fill=\"none\" stroke=\"#000000\" points=\"624,-36 570,-36 570,0 624,0 624,-36\"/>\n<text text-anchor=\"middle\" x=\"597\" y=\"-14.3\" font-family=\"Times,serif\" font-size=\"14.00\" fill=\"#000000\">(...)</text>\n</g>\n<!-- 89&#45;&gt;105 -->\n<g id=\"edge19\" class=\"edge\">\n<title>89&#45;&gt;105</title>\n<path fill=\"none\" stroke=\"#000000\" d=\"M569.3982,-71.9769C573.9265,-63.1215 578.7459,-53.6969 583.0691,-45.2427\"/>\n<polygon fill=\"#000000\" stroke=\"#000000\" points=\"586.2606,-46.6889 587.6973,-36.192 580.0281,-43.5019 586.2606,-46.6889\"/>\n</g>\n<!-- 113 -->\n<g id=\"node22\" class=\"node\">\n<title>113</title>\n<polygon fill=\"none\" stroke=\"#000000\" points=\"783.5,-244 636.5,-244 636.5,-176 783.5,-176 783.5,-244\"/>\n<text text-anchor=\"middle\" x=\"710\" y=\"-228.8\" font-family=\"Times,serif\" font-size=\"14.00\" fill=\"#000000\">luggage &lt;= 0.5</text>\n<text text-anchor=\"middle\" x=\"710\" y=\"-213.8\" font-family=\"Times,serif\" font-size=\"14.00\" fill=\"#000000\">gini = 0.473</text>\n<text text-anchor=\"middle\" x=\"710\" y=\"-198.8\" font-family=\"Times,serif\" font-size=\"14.00\" fill=\"#000000\">samples = 222</text>\n<text text-anchor=\"middle\" x=\"710\" y=\"-183.8\" font-family=\"Times,serif\" font-size=\"14.00\" fill=\"#000000\">value = [85, 137, 0, 0]</text>\n</g>\n<!-- 112&#45;&gt;113 -->\n<g id=\"edge21\" class=\"edge\">\n<title>112&#45;&gt;113</title>\n<path fill=\"none\" stroke=\"#000000\" d=\"M710,-279.9465C710,-271.776 710,-262.9318 710,-254.3697\"/>\n<polygon fill=\"#000000\" stroke=\"#000000\" points=\"713.5001,-254.13 710,-244.13 706.5001,-254.13 713.5001,-254.13\"/>\n</g>\n<!-- 154 -->\n<g id=\"node29\" class=\"node\">\n<title>154</title>\n<polygon fill=\"none\" stroke=\"#000000\" points=\"934,-236.5 802,-236.5 802,-183.5 934,-183.5 934,-236.5\"/>\n<text text-anchor=\"middle\" x=\"868\" y=\"-221.3\" font-family=\"Times,serif\" font-size=\"14.00\" fill=\"#000000\">gini = 0.0</text>\n<text text-anchor=\"middle\" x=\"868\" y=\"-206.3\" font-family=\"Times,serif\" font-size=\"14.00\" fill=\"#000000\">samples = 78</text>\n<text text-anchor=\"middle\" x=\"868\" y=\"-191.3\" font-family=\"Times,serif\" font-size=\"14.00\" fill=\"#000000\">value = [78, 0, 0, 0]</text>\n</g>\n<!-- 112&#45;&gt;154 -->\n<g id=\"edge28\" class=\"edge\">\n<title>112&#45;&gt;154</title>\n<path fill=\"none\" stroke=\"#000000\" d=\"M761.7351,-279.9465C780.1427,-267.8301 800.8013,-254.232 818.9751,-242.2696\"/>\n<polygon fill=\"#000000\" stroke=\"#000000\" points=\"821.2478,-244.9638 827.6763,-236.5422 817.3991,-239.1168 821.2478,-244.9638\"/>\n</g>\n<!-- 114 -->\n<g id=\"node23\" class=\"node\">\n<title>114</title>\n<polygon fill=\"none\" stroke=\"#000000\" points=\"780,-140 640,-140 640,-72 780,-72 780,-140\"/>\n<text text-anchor=\"middle\" x=\"710\" y=\"-124.8\" font-family=\"Times,serif\" font-size=\"14.00\" fill=\"#000000\">safety &lt;= 1.5</text>\n<text text-anchor=\"middle\" x=\"710\" y=\"-109.8\" font-family=\"Times,serif\" font-size=\"14.00\" fill=\"#000000\">gini = 0.444</text>\n<text text-anchor=\"middle\" x=\"710\" y=\"-94.8\" font-family=\"Times,serif\" font-size=\"14.00\" fill=\"#000000\">samples = 72</text>\n<text text-anchor=\"middle\" x=\"710\" y=\"-79.8\" font-family=\"Times,serif\" font-size=\"14.00\" fill=\"#000000\">value = [48, 24, 0, 0]</text>\n</g>\n<!-- 113&#45;&gt;114 -->\n<g id=\"edge22\" class=\"edge\">\n<title>113&#45;&gt;114</title>\n<path fill=\"none\" stroke=\"#000000\" d=\"M710,-175.9465C710,-167.776 710,-158.9318 710,-150.3697\"/>\n<polygon fill=\"#000000\" stroke=\"#000000\" points=\"713.5001,-150.13 710,-140.13 706.5001,-150.13 713.5001,-150.13\"/>\n</g>\n<!-- 129 -->\n<g id=\"node26\" class=\"node\">\n<title>129</title>\n<polygon fill=\"none\" stroke=\"#000000\" points=\"944,-140 798,-140 798,-72 944,-72 944,-140\"/>\n<text text-anchor=\"middle\" x=\"871\" y=\"-124.8\" font-family=\"Times,serif\" font-size=\"14.00\" fill=\"#000000\">maintenance &lt;= 1.5</text>\n<text text-anchor=\"middle\" x=\"871\" y=\"-109.8\" font-family=\"Times,serif\" font-size=\"14.00\" fill=\"#000000\">gini = 0.372</text>\n<text text-anchor=\"middle\" x=\"871\" y=\"-94.8\" font-family=\"Times,serif\" font-size=\"14.00\" fill=\"#000000\">samples = 150</text>\n<text text-anchor=\"middle\" x=\"871\" y=\"-79.8\" font-family=\"Times,serif\" font-size=\"14.00\" fill=\"#000000\">value = [37, 113, 0, 0]</text>\n</g>\n<!-- 113&#45;&gt;129 -->\n<g id=\"edge25\" class=\"edge\">\n<title>113&#45;&gt;129</title>\n<path fill=\"none\" stroke=\"#000000\" d=\"M762.7174,-175.9465C777.7288,-166.2497 794.2094,-155.6039 809.6854,-145.6069\"/>\n<polygon fill=\"#000000\" stroke=\"#000000\" points=\"811.6633,-148.496 818.1641,-140.13 807.8651,-142.6161 811.6633,-148.496\"/>\n</g>\n<!-- 115 -->\n<g id=\"node24\" class=\"node\">\n<title>115</title>\n<polygon fill=\"none\" stroke=\"#000000\" points=\"702,-36 648,-36 648,0 702,0 702,-36\"/>\n<text text-anchor=\"middle\" x=\"675\" y=\"-14.3\" font-family=\"Times,serif\" font-size=\"14.00\" fill=\"#000000\">(...)</text>\n</g>\n<!-- 114&#45;&gt;115 -->\n<g id=\"edge23\" class=\"edge\">\n<title>114&#45;&gt;115</title>\n<path fill=\"none\" stroke=\"#000000\" d=\"M696.4681,-71.9769C692.9839,-63.2167 689.2782,-53.8995 685.9438,-45.5157\"/>\n<polygon fill=\"#000000\" stroke=\"#000000\" points=\"689.1834,-44.1905 682.2354,-36.192 682.679,-46.7775 689.1834,-44.1905\"/>\n</g>\n<!-- 116 -->\n<g id=\"node25\" class=\"node\">\n<title>116</title>\n<polygon fill=\"none\" stroke=\"#000000\" points=\"774,-36 720,-36 720,0 774,0 774,-36\"/>\n<text text-anchor=\"middle\" x=\"747\" y=\"-14.3\" font-family=\"Times,serif\" font-size=\"14.00\" fill=\"#000000\">(...)</text>\n</g>\n<!-- 114&#45;&gt;116 -->\n<g id=\"edge24\" class=\"edge\">\n<title>114&#45;&gt;116</title>\n<path fill=\"none\" stroke=\"#000000\" d=\"M724.3052,-71.9769C727.9884,-63.2167 731.9059,-53.8995 735.4309,-45.5157\"/>\n<polygon fill=\"#000000\" stroke=\"#000000\" points=\"738.7016,-46.7669 739.3511,-36.192 732.2487,-44.0537 738.7016,-46.7669\"/>\n</g>\n<!-- 130 -->\n<g id=\"node27\" class=\"node\">\n<title>130</title>\n<polygon fill=\"none\" stroke=\"#000000\" points=\"849,-36 795,-36 795,0 849,0 849,-36\"/>\n<text text-anchor=\"middle\" x=\"822\" y=\"-14.3\" font-family=\"Times,serif\" font-size=\"14.00\" fill=\"#000000\">(...)</text>\n</g>\n<!-- 129&#45;&gt;130 -->\n<g id=\"edge26\" class=\"edge\">\n<title>129&#45;&gt;130</title>\n<path fill=\"none\" stroke=\"#000000\" d=\"M852.0553,-71.9769C847.0714,-63.0262 841.7638,-53.4941 837.0175,-44.9703\"/>\n<polygon fill=\"#000000\" stroke=\"#000000\" points=\"840.0524,-43.2261 832.1296,-36.192 833.9366,-46.6316 840.0524,-43.2261\"/>\n</g>\n<!-- 141 -->\n<g id=\"node28\" class=\"node\">\n<title>141</title>\n<polygon fill=\"none\" stroke=\"#000000\" points=\"921,-36 867,-36 867,0 921,0 921,-36\"/>\n<text text-anchor=\"middle\" x=\"894\" y=\"-14.3\" font-family=\"Times,serif\" font-size=\"14.00\" fill=\"#000000\">(...)</text>\n</g>\n<!-- 129&#45;&gt;141 -->\n<g id=\"edge27\" class=\"edge\">\n<title>129&#45;&gt;141</title>\n<path fill=\"none\" stroke=\"#000000\" d=\"M879.8924,-71.9769C882.1322,-63.4071 884.5114,-54.3043 886.6651,-46.0638\"/>\n<polygon fill=\"#000000\" stroke=\"#000000\" points=\"890.1028,-46.752 889.2453,-36.192 883.3303,-44.9819 890.1028,-46.752\"/>\n</g>\n</g>\n</svg>\n"
          },
          "metadata": {
            "tags": []
          }
        }
      ]
    }
  ]
}