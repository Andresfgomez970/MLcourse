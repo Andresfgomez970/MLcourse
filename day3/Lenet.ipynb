{
  "nbformat": 4,
  "nbformat_minor": 0,
  "metadata": {
    "colab": {
      "name": "Lenet.ipynb",
      "provenance": [],
      "collapsed_sections": [],
      "include_colab_link": true
    },
    "kernelspec": {
      "name": "python3",
      "display_name": "Python 3"
    }
  },
  "cells": [
    {
      "cell_type": "markdown",
      "metadata": {
        "id": "view-in-github",
        "colab_type": "text"
      },
      "source": [
        "<a href=\"https://colab.research.google.com/github/mjvakili/MLcourse/blob/master/day3/Lenet.ipynb\" target=\"_parent\"><img src=\"https://colab.research.google.com/assets/colab-badge.svg\" alt=\"Open In Colab\"/></a>"
      ]
    },
    {
      "cell_type": "code",
      "metadata": {
        "id": "DNu2WrzTHXfI",
        "colab_type": "code",
        "colab": {}
      },
      "source": [
        "import os\n",
        "\n",
        "from tensorflow.keras import layers\n",
        "from tensorflow.keras import Model\n",
        "from tensorflow.keras.applications.inception_v3 import InceptionV3\n",
        "import tensorflow as tf"
      ],
      "execution_count": 0,
      "outputs": []
    },
    {
      "cell_type": "code",
      "metadata": {
        "id": "4uF_0UM0JZhF",
        "colab_type": "code",
        "outputId": "4071b801-b2dd-450e-a0a0-d8347e24d6b9",
        "colab": {
          "base_uri": "https://localhost:8080/",
          "height": 50
        }
      },
      "source": [
        "(x_train, y_train), (x_test, y_test) = tf.keras.datasets.mnist.load_data()\n",
        "x_train=x_train.reshape(60000, 28, 28, 1)\n",
        "x_train=x_train / 255.0\n",
        "x_test = x_test.reshape(10000, 28, 28, 1)"
      ],
      "execution_count": 4,
      "outputs": [
        {
          "output_type": "stream",
          "text": [
            "Downloading data from https://storage.googleapis.com/tensorflow/tf-keras-datasets/mnist.npz\n",
            "11493376/11490434 [==============================] - 0s 0us/step\n"
          ],
          "name": "stdout"
        }
      ]
    },
    {
      "cell_type": "code",
      "metadata": {
        "id": "eL3bwyVISKmF",
        "colab_type": "code",
        "colab": {
          "base_uri": "https://localhost:8080/",
          "height": 86
        },
        "outputId": "c00c1f01-c3c4-42df-a705-6b749342deb1"
      },
      "source": [
        "model = tf.keras.models.Sequential([\n",
        "    tf.keras.layers.Conv2D(6, (5,5), activation='relu', input_shape=(28, 28, 1)),\n",
        "    tf.keras.layers.AveragePooling2D(pool_size = (2, 2), strides = (2,2)),\n",
        "    tf.keras.layers.Conv2D(16, (5,5), activation='relu'),\n",
        "    tf.keras.layers.AveragePooling2D(pool_size = (2,2), strides = (2,2)),\n",
        "    tf.keras.layers.Flatten(),\n",
        "    tf.keras.layers.Dense(120, activation='relu'),\n",
        "    tf.keras.layers.Dense(84, activation='relu'),\n",
        "    tf.keras.layers.Dense(10, activation='softmax'),\n",
        "\n",
        "])"
      ],
      "execution_count": 5,
      "outputs": [
        {
          "output_type": "stream",
          "text": [
            "WARNING:tensorflow:From /usr/local/lib/python3.6/dist-packages/tensorflow_core/python/ops/resource_variable_ops.py:1630: calling BaseResourceVariable.__init__ (from tensorflow.python.ops.resource_variable_ops) with constraint is deprecated and will be removed in a future version.\n",
            "Instructions for updating:\n",
            "If using Keras pass *_constraint arguments to layers.\n"
          ],
          "name": "stdout"
        }
      ]
    },
    {
      "cell_type": "code",
      "metadata": {
        "id": "rkQoXjBPd0-h",
        "colab_type": "code",
        "colab": {}
      },
      "source": [
        "model.compile(optimizer = 'Adam', loss = 'sparse_categorical_crossentropy', metrics = ['accuracy'])"
      ],
      "execution_count": 0,
      "outputs": []
    },
    {
      "cell_type": "code",
      "metadata": {
        "id": "RG6JIdhUeCYj",
        "colab_type": "code",
        "outputId": "5338b21b-c16e-400f-a477-4cf56982ddec",
        "colab": {
          "base_uri": "https://localhost:8080/",
          "height": 196
        }
      },
      "source": [
        "history = model.fit(x_train, y_train, validation_data = (x_test, y_test), batch_size = 32, epochs = 5, verbose = 1)"
      ],
      "execution_count": 8,
      "outputs": [
        {
          "output_type": "stream",
          "text": [
            "Train on 60000 samples, validate on 10000 samples\n",
            "Epoch 1/5\n",
            "60000/60000 [==============================] - 29s 484us/sample - loss: 0.0294 - acc: 0.9908 - val_loss: 9.3676 - val_acc: 0.9831\n",
            "Epoch 2/5\n",
            "60000/60000 [==============================] - 28s 466us/sample - loss: 0.0253 - acc: 0.9918 - val_loss: 6.3694 - val_acc: 0.9879\n",
            "Epoch 3/5\n",
            "60000/60000 [==============================] - 28s 474us/sample - loss: 0.0225 - acc: 0.9930 - val_loss: 6.8421 - val_acc: 0.9871\n",
            "Epoch 4/5\n",
            "60000/60000 [==============================] - 28s 466us/sample - loss: 0.0201 - acc: 0.9939 - val_loss: 7.0223 - val_acc: 0.9898\n",
            "Epoch 5/5\n",
            "60000/60000 [==============================] - 29s 477us/sample - loss: 0.0165 - acc: 0.9947 - val_loss: 8.4099 - val_acc: 0.9887\n"
          ],
          "name": "stdout"
        }
      ]
    },
    {
      "cell_type": "code",
      "metadata": {
        "id": "R8WFHpw2PsEH",
        "colab_type": "code",
        "colab": {
          "base_uri": "https://localhost:8080/",
          "height": 336
        },
        "outputId": "0271ed50-5dc6-432f-dcf0-02c84de4faf9"
      },
      "source": [
        "fig, ax = plt.subplots(nrows = 1, ncols = 2, figsize = (10, 5))\n",
        "acc = history.history['acc']\n",
        "val_acc = history.history['val_acc']\n",
        "loss = history.history['loss']\n",
        "val_loss = history.history['val_loss']\n",
        "\n",
        "epochs = range(len(acc))\n",
        "\n",
        "ax[0].plot(epochs, acc, label='Training accuracy')\n",
        "ax[0].plot(epochs, val_acc, label='Validation accuracy')\n",
        "ax[0].set_title('Training and validation accuracy')\n",
        "ax[0].legend(loc=0)\n",
        "\n",
        "ax[1].semilogy(epochs, loss, label='Training loss')\n",
        "ax[1].semilogy(epochs, val_loss, label='Validation loss')\n",
        "ax[1].set_title('Training and validation Loss')\n",
        "ax[1].legend(loc=0)\n",
        "\n",
        "plt.show()"
      ],
      "execution_count": 12,
      "outputs": [
        {
          "output_type": "display_data",
          "data": {
            "image/png": "[encoded data removed]",
            "text/plain": [
              "<Figure size 720x360 with 2 Axes>"
            ]
          },
          "metadata": {
            "tags": []
          }
        }
      ]
    },
    {
      "cell_type": "code",
      "metadata": {
        "id": "fIFP8G15RE5h",
        "colab_type": "code",
        "colab": {}
      },
      "source": [
        "ypred = model.predict(x_test)"
      ],
      "execution_count": 0,
      "outputs": []
    },
    {
      "cell_type": "code",
      "metadata": {
        "id": "BOcCr6xERMku",
        "colab_type": "code",
        "colab": {}
      },
      "source": [
        "# the best estimate of the classifier\n",
        "import numpy as np\n",
        "y_best = []\n",
        "for k in range(len(ypred)):\n",
        "  y_best.append(np.argmax(ypred[k]))\n",
        "y_best = np.array(y_best)  "
      ],
      "execution_count": 0,
      "outputs": []
    },
    {
      "cell_type": "code",
      "metadata": {
        "id": "67Gxc6zQRw1A",
        "colab_type": "code",
        "colab": {}
      },
      "source": [
        "seven_index = np.where(y_test == 6)\n",
        "x_seven, y_seven, yhat_seven = x_test[seven_index], y_test[seven_index], y_best[seven_index]"
      ],
      "execution_count": 0,
      "outputs": []
    },
    {
      "cell_type": "code",
      "metadata": {
        "id": "xdXwV_ZbSG3k",
        "colab_type": "code",
        "colab": {
          "base_uri": "https://localhost:8080/",
          "height": 283
        },
        "outputId": "03e84e23-3c02-471a-eee9-0e9c80c4ae9a"
      },
      "source": [
        "plt.scatter(yhat_seven , y_seven, alpha = .1)"
      ],
      "execution_count": 23,
      "outputs": [
        {
          "output_type": "execute_result",
          "data": {
            "text/plain": [
              "<matplotlib.collections.PathCollection at 0x7f0e813cb630>"
            ]
          },
          "metadata": {
            "tags": []
          },
          "execution_count": 23
        },
        {
          "output_type": "display_data",
          "data": {
            "image/png": "[encoded data removed]",
            "text/plain": [
              "<Figure size 432x288 with 1 Axes>"
            ]
          },
          "metadata": {
            "tags": []
          }
        }
      ]
    },
    {
      "cell_type": "code",
      "metadata": {
        "id": "xy9iS-90eRCO",
        "colab_type": "code",
        "colab": {}
      },
      "source": [
        "import matplotlib.pyplot as plt\n",
        "fig, axs = plt.subplots(nrows = 5)\n",
        "first=0\n",
        "second=7\n",
        "third= 9\n",
        "filter_number = 3\n",
        "from tensorflow.keras import models\n",
        "layer_outputs = [layer.output for layer in model.layers]\n",
        "activation_model = tf.keras.models.Model(inputs = model.input, outputs = layer_outputs)\n",
        "for x in range(0,4):\n",
        "  f1 = activation_model.predict(x_test[first].reshape(1, 28, 28, 1))[x]\n",
        "  axarr[0,x].imshow(f1[0, : , :, filter_number], cmap='inferno')\n",
        "  axarr[0,x].grid(False)\n",
        "  f2 = activation_model.predict(x_test[second].reshape(1, 28, 28, 1))[x]\n",
        "  axarr[1,x].imshow(f2[0, : , :,  filter_number], cmap='inferno')\n",
        "  axarr[1,x].grid(False)\n",
        "  f3 = activation_model.predict(x_test[third].reshape(1, 28, 28, 1))[x]\n",
        "  axarr[2,x].imshow(f3[0, : , :,  filter_number], cmap='inferno')\n",
        "  axarr[2,x].grid(False)"
      ],
      "execution_count": 0,
      "outputs": []
    },
    {
      "cell_type": "code",
      "metadata": {
        "id": "0SMkDbDye5fq",
        "colab_type": "code",
        "colab": {}
      },
      "source": [
        ""
      ],
      "execution_count": 0,
      "outputs": []
    }
  ]
}